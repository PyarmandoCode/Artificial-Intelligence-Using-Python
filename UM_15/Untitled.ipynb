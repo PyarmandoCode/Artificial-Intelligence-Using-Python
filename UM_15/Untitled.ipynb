{
 "cells": [
  {
   "cell_type": "markdown",
   "id": "60fabe49",
   "metadata": {},
   "source": [
    "## Machine Learning (Aprendizage Automatico)\n",
    "- Es una rama de la IA que estudia como dotar a las maquinas de capacidad de aprendizaje\n",
    "- **¿Como aprenden las Maquinas?**\n",
    "    - **Modelo** .- Es un conjunto de informacion que ayuda a la maquina a poder aprender y tomar sus propias decisiones (Datos). \n",
    "    - **Algoritmo de Aprendizaje** .- Modulo de Python (Red Neuronal (Tensorflow))\n",
    "    - **Entrenar el Modelo** .-Para que el modelo tome sus propias decisiones.\n",
    "    - **Ajustes Necesarios** .- Modificar los posibles fallas que tuviera el modelo.\n",
    "    \n",
    "\n",
    "\n"
   ]
  },
  {
   "cell_type": "markdown",
   "id": "167d5ab7",
   "metadata": {},
   "source": [
    "## Tipos de Machine Learning\n",
    "- **Supervizado**\n",
    "  -El Aprendizaje Supervisado utilizaremos informacion (Dataset) de entrenamiento. Entrenamos a nuestro modelo con miles de datos y le decimos como clasificarnos por medio de etiquetas \n",
    "![\"supervizado\"](supervizado.png)\n",
    "- **No Supervizado**\n",
    "  -Utilizaremos informacion (Dataset) de entrenamiento. a diferencia de aprendidizaje supervizado no tendra etiquetas el modelo debera aprender con objetivos y abstraer los patrones de la informacion directamente como separarlos por grupos a este problema se le llama clustering.\n",
    "![\"No Supervizado\"](no_supervizado.png)\n",
    "- **Esfuerzo**\n",
    "  -Es un tecnica que nuestos modelos aprenden a partir de la experiencia. cuando toma un mala decision se le \"castiga\" . A partir de sus premios y castigos va aprendiendo a realizar mejor su tarea.\n",
    "![\"Refuerzo\"](refuerzo.png)"
   ]
  },
  {
   "cell_type": "code",
   "execution_count": null,
   "id": "68c8df90",
   "metadata": {},
   "outputs": [],
   "source": [
    "#Programacion Regular\n",
    "#Convertir datos de celsius a fahrenheint\n",
    "def convertir_cel_fa(c):\n",
    "    f=c*1.8+32\n",
    "    return f"
   ]
  },
  {
   "cell_type": "code",
   "execution_count": null,
   "id": "5558a6ed",
   "metadata": {},
   "outputs": [],
   "source": [
    "convertir_cel_fa(15)"
   ]
  },
  {
   "cell_type": "markdown",
   "id": "99969f33",
   "metadata": {},
   "source": [
    "## Tensorflow\n",
    "- Modulo de Python que permite crear modelos de aprendizaje automatico\n",
    "  diseñada por Google"
   ]
  },
  {
   "cell_type": "code",
   "execution_count": null,
   "id": "5da1a110",
   "metadata": {},
   "outputs": [],
   "source": [
    "import tensorflow as tf\n",
    "import numpy as np\n"
   ]
  }
 ],
 "metadata": {
  "kernelspec": {
   "display_name": "Python 3 (ipykernel)",
   "language": "python",
   "name": "python3"
  },
  "language_info": {
   "codemirror_mode": {
    "name": "ipython",
    "version": 3
   },
   "file_extension": ".py",
   "mimetype": "text/x-python",
   "name": "python",
   "nbconvert_exporter": "python",
   "pygments_lexer": "ipython3",
   "version": "3.11.5"
  }
 },
 "nbformat": 4,
 "nbformat_minor": 5
}
