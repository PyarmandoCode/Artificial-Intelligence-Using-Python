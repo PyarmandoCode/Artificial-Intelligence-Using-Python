{
 "cells": [
  {
   "cell_type": "markdown",
   "id": "1e98e6e2",
   "metadata": {},
   "source": [
    "## Challenger 3\n",
    "- Dado el siguiente diccionario que representa las ventas mensuales de productos en una tienda\n",
    "- Escribe un bucle For que itere sobre las claves del diccionario e imprima cada mes junto con su cantidad de ventas.\n",
    "- Calcula y muestra el mes con la mayor cantidad de ventas\n",
    "- Agrega las ventas de junio (1200) al diccionario.\n",
    "- Calcula y muestra el promedio de ventas mensuales\n"
   ]
  },
  {
   "cell_type": "code",
   "execution_count": null,
   "id": "e6cdfa5d",
   "metadata": {},
   "outputs": [],
   "source": [
    "ventas = {\n",
    "    'enero': 1500,\n",
    "    'febrero': 2200,\n",
    "    'marzo': 1800,\n",
    "    'abril': 2500,\n",
    "    'mayo': 2000\n",
    "}\n",
    "\n",
    "ventas = {\n",
    "    'enero': 1500,\n",
    "    'febrero': 2200,\n",
    "    'marzo': 1800,\n",
    "    'abril': 2500,\n",
    "    'mayo': 2000\n",
    "}\n",
    "\n",
    "def ejercicio_1():\n",
    "    for k, v in ventas.items():\n",
    "        print(f\"La Clave {k} su valor es  {v}\")\n",
    "\n",
    "def ejercicio_2():\n",
    "    valor_maximo = None\n",
    "    for valor in ventas.values():\n",
    "        if valor_maximo is None or valor>valor_maximo:\n",
    "            valor_maximo=valor # intercambio de informacion 2500\n",
    "    return valor_maximo\n",
    "\n",
    "def ejercicio_3():\n",
    "    ventas[\"junio\"]=1200\n",
    "    ejercicio_1()\n",
    "\n",
    "def ejercicio_4():\n",
    "    suma_valores=sum(ventas.values())\n",
    "    cantidad_elementos=len(ventas)\n",
    "    promedio_ventas=suma_valores/cantidad_elementos if cantidad_elementos >0 else 0\n",
    "    return f\"El Promedio de Ventas es {promedio_ventas}\"\n",
    "\n",
    "def ejercicio_4_sin_funciones():\n",
    "    suma_valores=0\n",
    "    cantidad_elementos=0\n",
    "    for valor in ventas.values():\n",
    "        suma_valores +=valor # todo Acumulador de ventas\n",
    "        cantidad_elementos +=1 # todo contador de elementos del diccionario\n",
    "        promedio_ventas = suma_valores / cantidad_elementos if cantidad_elementos > 0 else 0\n",
    "        return f\"El Promedio de Ventas es {promedio_ventas}\"\n",
    "\n",
    "print(ejercicio_4_sin_funciones())\n"
   ]
  },
  {
   "cell_type": "markdown",
   "id": "06c45fe7",
   "metadata": {},
   "source": [
    "## Pregunta 2\n",
    "- Utilizando los archivos \"datos_personales.csv\" y \"notas.csv\", donde \"datos_personales.csv\" tiene las columnas \"ID\", \"Nombre\", \"Apellido\", y \"notas.csv\" tiene las columnas \"ID\" y \"Nota\", crea un programa en Python que integre la información y calcule el promedio de notas para cada estudiante.\n",
    "- Genera un gráfico de barras que muestre el promedio de notas para cada estudiante. Guarda el gráfico como una imagen llamada \"grafico_notas.png\"."
   ]
  },
  {
   "cell_type": "code",
   "execution_count": 3,
   "id": "47744b66",
   "metadata": {},
   "outputs": [
    {
     "data": {
      "text/html": [
       "<div>\n",
       "<style scoped>\n",
       "    .dataframe tbody tr th:only-of-type {\n",
       "        vertical-align: middle;\n",
       "    }\n",
       "\n",
       "    .dataframe tbody tr th {\n",
       "        vertical-align: top;\n",
       "    }\n",
       "\n",
       "    .dataframe thead th {\n",
       "        text-align: right;\n",
       "    }\n",
       "</style>\n",
       "<table border=\"1\" class=\"dataframe\">\n",
       "  <thead>\n",
       "    <tr style=\"text-align: right;\">\n",
       "      <th></th>\n",
       "      <th>id</th>\n",
       "      <th>nombre</th>\n",
       "      <th>apellido</th>\n",
       "      <th>nota</th>\n",
       "    </tr>\n",
       "  </thead>\n",
       "  <tbody>\n",
       "    <tr>\n",
       "      <th>0</th>\n",
       "      <td>1</td>\n",
       "      <td>Armando</td>\n",
       "      <td>Ruiz</td>\n",
       "      <td>14.0</td>\n",
       "    </tr>\n",
       "    <tr>\n",
       "      <th>1</th>\n",
       "      <td>2</td>\n",
       "      <td>Carlos</td>\n",
       "      <td>Perez</td>\n",
       "      <td>19.0</td>\n",
       "    </tr>\n",
       "    <tr>\n",
       "      <th>2</th>\n",
       "      <td>3</td>\n",
       "      <td>Maria</td>\n",
       "      <td>Fuentes</td>\n",
       "      <td>19.5</td>\n",
       "    </tr>\n",
       "  </tbody>\n",
       "</table>\n",
       "</div>"
      ],
      "text/plain": [
       "   id   nombre apellido  nota\n",
       "0   1  Armando     Ruiz  14.0\n",
       "1   2   Carlos    Perez  19.0\n",
       "2   3    Maria  Fuentes  19.5"
      ]
     },
     "execution_count": 3,
     "metadata": {},
     "output_type": "execute_result"
    }
   ],
   "source": [
    "import pandas as pd\n",
    "#Cargar los datos de los archivos\n",
    "datos_personales=pd.read_csv('datos_personales.csv')\n",
    "notas=pd.read_csv('notas.csv')\n",
    "#Fusionar los datos utilizando la columna ID\n",
    "datos_combinados=pd.merge(datos_personales,notas,on=\"id\")\n",
    "datos_combinados\n",
    "#Calcular el Promedio de notas por cada estudiante\n",
    "promedio_notas=datos_combinados.groupby(['id','nombre','apellido'])['nota'].mean().reset_index()\n",
    "promedio_notas"
   ]
  },
  {
   "cell_type": "code",
   "execution_count": 8,
   "id": "bc979c05",
   "metadata": {},
   "outputs": [],
   "source": [
    "import matplotlib.pyplot as plt"
   ]
  },
  {
   "cell_type": "code",
   "execution_count": 25,
   "id": "3092e79a",
   "metadata": {},
   "outputs": [
    {
     "data": {
      "image/png": "[encoded data removed]",
      "text/plain": [
       "<Figure size 1000x600 with 1 Axes>"
      ]
     },
     "metadata": {},
     "output_type": "display_data"
    }
   ],
   "source": [
    "#Generar el grafico\n",
    "plt.figure(figsize=(10,6))\n",
    "plt.bar(promedio_notas['apellido']+' '+promedio_notas['nombre'],promedio_notas['nota'],color='blue')\n",
    "plt.title('Promedio de Notas de Estudiantes')\n",
    "plt.xlabel('Alumnos')\n",
    "plt.ylabel('Promedio de Notas Por Estudiante')\n",
    "plt.grid(axis='y')\n",
    "#plt.xticks(promedio_notas['id'])\n",
    "plt.savefig('grafico_notas.png')\n",
    "plt.show()\n"
   ]
  },
  {
   "cell_type": "code",
   "execution_count": null,
   "id": "e180fb7c",
   "metadata": {},
   "outputs": [],
   "source": []
  }
 ],
 "metadata": {
  "kernelspec": {
   "display_name": "Python 3 (ipykernel)",
   "language": "python",
   "name": "python3"
  },
  "language_info": {
   "codemirror_mode": {
    "name": "ipython",
    "version": 3
   },
   "file_extension": ".py",
   "mimetype": "text/x-python",
   "name": "python",
   "nbconvert_exporter": "python",
   "pygments_lexer": "ipython3",
   "version": "3.11.5"
  }
 },
 "nbformat": 4,
 "nbformat_minor": 5
}
