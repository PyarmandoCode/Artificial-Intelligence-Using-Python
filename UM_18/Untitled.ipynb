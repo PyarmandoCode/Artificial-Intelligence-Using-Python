{
 "cells": [
  {
   "cell_type": "markdown",
   "id": "d9010956",
   "metadata": {},
   "source": [
    "## Inteligencia Artificial \n",
    "- Fundamentos\n",
    "  - 1959 Arthur Samuel Informatico Pionero  \"El Estudio que da a los ordenadores la capacidad de aprender sin ser programados explicitamente\" \n",
    "  - En el Articulo de Alan Touring (1950)"
   ]
  },
  {
   "cell_type": "markdown",
   "id": "60fabe49",
   "metadata": {},
   "source": [
    "## Machine Learning (Aprendizage Automatico)\n",
    "- Es una rama de la IA que estudia como dotar a las maquinas de capacidad de aprendizaje\n",
    "- **¿Como aprenden las Maquinas?**\n",
    "    - **Modelo** .- Es un conjunto de informacion que ayuda a la maquina a poder aprender y tomar sus propias decisiones (Datos). \n",
    "    - **Algoritmo de Aprendizaje** .- Modulo de Python (Red Neuronal (Tensorflow)) (Regresion Lineal)\n",
    "    - **Entrenar el Modelo** .-Para que el modelo tome sus propias decisiones.\n",
    "    - **Ajustes Necesarios** .- Modificar los posibles fallas que tuviera el modelo.\n",
    "       "
   ]
  },
  {
   "cell_type": "markdown",
   "id": "e8e0f732",
   "metadata": {},
   "source": [
    "## Regresion Lineal\n",
    " - Es un  Metodo estadistico que se utiliza para modelar la relacion entre una variable dependiente(o una respuesta) y una o mas variables independientes(o predictores) mediante una ecuacion lineal.\n",
    " - y= mx + b\n",
    " - Donde:\n",
    "     y= es la variable dependiente\n",
    "     x= es la variable independiente\n",
    "     m= es la pendiente de la linea\n",
    "     b= es la interseccion en el eje y ( y el valor de y cuando x es 0)\n",
    "     \n",
    "- Ejemplo\n",
    "    -Queremos predecir la puntuacion de un estudiante (Y) en un examen basandose en el numero de horas que estudio (x)\n",
    "- En Resumen el objetivo del modelo de regresione construir una ecuacion matematica que defina  los valores de x e y y poder hacer predicciones con ambos datos   "
   ]
  },
  {
   "cell_type": "code",
   "execution_count": 9,
   "id": "6813b755",
   "metadata": {},
   "outputs": [
    {
     "data": {
      "text/plain": [
       "102.5"
      ]
     },
     "execution_count": 9,
     "metadata": {},
     "output_type": "execute_result"
    }
   ],
   "source": [
    "#Datos de ejemplo\n",
    "horas_estudio = [1,2,3,4,5] = X\n",
    "puntuacion_de_examen=[60,70,75,85,95] = Y\n",
    "#Calcular la regresion lineal manualmente\n",
    "promedio_horas=sum(horas_estudio)/len(horas_estudio)\n",
    "promedio_puntuacion=sum(puntuacion_de_examen)/len(puntuacion_de_examen)\n",
    "promedio_puntuacion\n",
    "m=sum((xi - promedio_horas) * (yi -promedio_puntuacion)for xi,yi in zip(horas_estudio,puntuacion_de_examen))/sum((xi - promedio_horas) ** 2 for xi in horas_estudio)\n",
    "b=promedio_puntuacion - m * promedio_horas\n",
    "#predicciones\n",
    "horas_nuevas=5\n",
    "prediccion = m * horas_nuevas + b\n",
    "prediccion"
   ]
  },
  {
   "cell_type": "markdown",
   "id": "167d5ab7",
   "metadata": {},
   "source": [
    "## Tipos de Machine Learning\n",
    "- **Supervizado**\n",
    "  -El Aprendizaje Supervisado utilizaremos informacion (Dataset) de entrenamiento. Entrenamos a nuestro modelo con miles de datos y le decimos como clasificarnos por medio de etiquetas \n",
    "![\"supervizado\"](supervizado.png)\n",
    "- **No Supervizado**\n",
    "  -Utilizaremos informacion (Dataset) de entrenamiento. a diferencia de aprendidizaje supervizado no tendra etiquetas el modelo debera aprender con objetivos y abstraer los patrones de la informacion directamente como separarlos por grupos a este problema se le llama clustering.\n",
    "![\"No Supervizado\"](no_supervizado.png)\n",
    "- **Esfuerzo**\n",
    "  -Es un tecnica que nuestos modelos aprenden a partir de la experiencia. cuando toma un mala decision se le \"castiga\" . A partir de sus premios y castigos va aprendiendo a realizar mejor su tarea.\n",
    "![\"Refuerzo\"](refuerzo.png)\n",
    "![aprendizaje_automatico](a_a.png) "
   ]
  },
  {
   "cell_type": "markdown",
   "id": "055bb55e",
   "metadata": {},
   "source": [
    "## Aprendizaje Supervisado\n",
    "- Clasificacion .- Un Algortimo de clasificacion tiene como objetivo clasificar las entradas en un numero determinado de categorias basandose  en los datos etiquetados con los que fue entrenado.\n",
    "  -Clasificacion Binaria,filttar correos ,clasificar comentarios clientes como positivos o negativos.\n",
    "  \n",
    "## Aprendizaje NO Supervisado\n",
    "- Agrupamiento (Clustering) .- Este metodo no supertvizado reune un conjuento de algortimos de aprendizaje cuyo objetivo es agreupar datos no etiquetados con propiedades imilares.\n",
    "## Regresion\n",
    "- Cualquier Modelo que nos ayude a predecir valores numericos , como  el resultado obtenido por horas de estudio o el precio de venta de un producto se conoce como regresion lineal.\n"
   ]
  },
  {
   "cell_type": "code",
   "execution_count": null,
   "id": "68c8df90",
   "metadata": {},
   "outputs": [],
   "source": [
    "#Programacion Regular\n",
    "#Convertir datos de celsius a fahrenheint\n",
    "def convertir_cel_fa(c):\n",
    "    f=c*1.8+32\n",
    "    return f"
   ]
  },
  {
   "cell_type": "code",
   "execution_count": null,
   "id": "5558a6ed",
   "metadata": {},
   "outputs": [],
   "source": [
    "convertir_cel_fa(15)"
   ]
  },
  {
   "cell_type": "code",
   "execution_count": null,
   "id": "5da1a110",
   "metadata": {},
   "outputs": [],
   "source": [
    "import tensorflow as tf\n",
    "import numpy as np\n"
   ]
  },
  {
   "cell_type": "code",
   "execution_count": 13,
   "id": "3843a8b6",
   "metadata": {},
   "outputs": [
    {
     "data": {
      "text/plain": [
       "102.5"
      ]
     },
     "execution_count": 13,
     "metadata": {},
     "output_type": "execute_result"
    }
   ],
   "source": [
    "#Datos de ejemplo\n",
    "horas_estudio = [1,2,3,4,5]\n",
    "puntuacion_de_examen=[60,70,75,85,95]\n",
    "#Calcular la regresion lineal manualmente\n",
    "promedio_horas=sum(horas_estudio)/len(horas_estudio)\n",
    "promedio_puntuacion=sum(puntuacion_de_examen)/len(puntuacion_de_examen)\n",
    "promedio_puntuacion\n",
    "m=sum((xi - promedio_horas) * (yi -promedio_puntuacion)for xi,yi in zip(horas_estudio,puntuacion_de_examen))/sum((xi - promedio_horas) ** 2 for xi in horas_estudio)\n",
    "b=promedio_puntuacion - m * promedio_horas\n",
    "#predicciones\n",
    "horas_nuevas=6\n",
    "prediccion = m * horas_nuevas + b\n",
    "prediccion"
   ]
  },
  {
   "cell_type": "code",
   "execution_count": 20,
   "id": "beaad745",
   "metadata": {},
   "outputs": [],
   "source": [
    "#Skelearn es un modulo de python para machine learning que me permite realizar algorimos de \n",
    "# predicciones\n",
    "from sklearn.linear_model import LinearRegression \n",
    "from sklearn.naive_bayes import MultinomialNB\n",
    "from sklearn.mixture import GaussianMixture\n",
    "modelo=LinearRegression()"
   ]
  },
  {
   "cell_type": "code",
   "execution_count": 18,
   "id": "e8e50fa5",
   "metadata": {},
   "outputs": [
    {
     "data": {
      "text/plain": [
       "[('Alice', 25), ('bop', 30)]"
      ]
     },
     "execution_count": 18,
     "metadata": {},
     "output_type": "execute_result"
    }
   ],
   "source": [
    "#Ejemplo de ZIP\n",
    "nombres= ['Alice','bop']\n",
    "edades = [25,30]\n",
    "combinado=zip(nombres,edades)\n",
    "lista_combinada=list(combinado)\n",
    "lista_combinada"
   ]
  },
  {
   "cell_type": "code",
   "execution_count": null,
   "id": "2ea8e047",
   "metadata": {},
   "outputs": [],
   "source": [
    "##Ejemplo de Modelo Predectivo\n",
    " - Crear un modelo predectivo de ML que aprenda a convertir grados celsiurs a fahreint\n",
    " - Para el desarrollo utilizaremos una red neuronal Tensorflow y la biblioteca de KERAS   "
   ]
  },
  {
   "cell_type": "markdown",
   "id": "d6fd0bb7",
   "metadata": {},
   "source": [
    "## Tensorflow\n",
    "- Modulo de Python que permite crear modelos de aprendizaje automatico diseñada por Google"
   ]
  },
  {
   "cell_type": "code",
   "execution_count": 21,
   "id": "bc6bbd4a",
   "metadata": {},
   "outputs": [
    {
     "name": "stdout",
     "output_type": "stream",
     "text": [
      "WARNING:tensorflow:From C:\\Users\\Armando\\anaconda3\\Lib\\site-packages\\keras\\src\\losses.py:2976: The name tf.losses.sparse_softmax_cross_entropy is deprecated. Please use tf.compat.v1.losses.sparse_softmax_cross_entropy instead.\n",
      "\n"
     ]
    }
   ],
   "source": [
    "import tensorflow as tf\n",
    "import numpy as np\n"
   ]
  },
  {
   "cell_type": "code",
   "execution_count": 22,
   "id": "d7e7eff2",
   "metadata": {},
   "outputs": [],
   "source": [
    "#Declarar 7 entradas de grados celsius\n",
    "celsius = np.array([-40,-10,0,8,15,22,38],dtype=float)\n",
    "#Declarar nuestros resultados den grados farehreint\n",
    "farenheint= np.array([-40,14,32,46,59,72,100],dtype=float)"
   ]
  },
  {
   "cell_type": "code",
   "execution_count": 23,
   "id": "54c50eaf",
   "metadata": {},
   "outputs": [
    {
     "name": "stdout",
     "output_type": "stream",
     "text": [
      "WARNING:tensorflow:From C:\\Users\\Armando\\anaconda3\\Lib\\site-packages\\keras\\src\\backend.py:873: The name tf.get_default_graph is deprecated. Please use tf.compat.v1.get_default_graph instead.\n",
      "\n"
     ]
    }
   ],
   "source": [
    "#Diseñar nuestra red neuronal\n",
    "capa=tf.keras.layers.Dense(units=1,input_shape=[1])"
   ]
  },
  {
   "cell_type": "code",
   "execution_count": 24,
   "id": "2b4d5bb2",
   "metadata": {},
   "outputs": [],
   "source": [
    "#utilizaremos un modelo sequencial\n",
    "modelo=tf.keras.Sequential([capa])"
   ]
  },
  {
   "cell_type": "code",
   "execution_count": 29,
   "id": "ee28dbb7",
   "metadata": {},
   "outputs": [],
   "source": [
    "modelo.compile(\n",
    "     optimizer=tf.keras.optimizers.Adam(0.1),\n",
    "     loss='mean_squared_error'\n",
    "    )"
   ]
  },
  {
   "cell_type": "code",
   "execution_count": 31,
   "id": "dd1616e2",
   "metadata": {},
   "outputs": [
    {
     "name": "stdout",
     "output_type": "stream",
     "text": [
      "Comenzando el entrenamiento..\n",
      "Modelo entrenado\n"
     ]
    }
   ],
   "source": [
    "print(\"Comenzando el entrenamiento..\")\n",
    "historia=modelo.fit(celsius,farenheint,epochs=1000,verbose=False)\n",
    "print(\"Modelo entrenado\")"
   ]
  },
  {
   "cell_type": "code",
   "execution_count": 34,
   "id": "0a03b864",
   "metadata": {},
   "outputs": [
    {
     "name": "stdout",
     "output_type": "stream",
     "text": [
      "1/1 [==============================] - 0s 40ms/step\n"
     ]
    },
    {
     "data": {
      "text/plain": [
       "array([[398.82452]], dtype=float32)"
      ]
     },
     "execution_count": 34,
     "metadata": {},
     "output_type": "execute_result"
    }
   ],
   "source": [
    "#Hagamos una prediccion\n",
    "resultado=modelo.predict([200])\n",
    "resultado"
   ]
  },
  {
   "cell_type": "markdown",
   "id": "1a1f83ab",
   "metadata": {},
   "source": [
    "## Pandas\n",
    "- Es Una Biblioteca de programacion de PYTHON que proporciona estructura de datos de alto rendimiento es utilizado como una herramienta de analisis de datos\n",
    "- Contiene una Estructura clave llamada DataFrames"
   ]
  },
  {
   "cell_type": "code",
   "execution_count": 1,
   "id": "77ad21d8",
   "metadata": {},
   "outputs": [
    {
     "data": {
      "text/html": [
       "<div>\n",
       "<style scoped>\n",
       "    .dataframe tbody tr th:only-of-type {\n",
       "        vertical-align: middle;\n",
       "    }\n",
       "\n",
       "    .dataframe tbody tr th {\n",
       "        vertical-align: top;\n",
       "    }\n",
       "\n",
       "    .dataframe thead th {\n",
       "        text-align: right;\n",
       "    }\n",
       "</style>\n",
       "<table border=\"1\" class=\"dataframe\">\n",
       "  <thead>\n",
       "    <tr style=\"text-align: right;\">\n",
       "      <th></th>\n",
       "      <th>Nombre</th>\n",
       "      <th>Edad</th>\n",
       "      <th>Ciudad</th>\n",
       "    </tr>\n",
       "  </thead>\n",
       "  <tbody>\n",
       "    <tr>\n",
       "      <th>0</th>\n",
       "      <td>Juan</td>\n",
       "      <td>25</td>\n",
       "      <td>Bogota</td>\n",
       "    </tr>\n",
       "    <tr>\n",
       "      <th>1</th>\n",
       "      <td>Maria</td>\n",
       "      <td>30</td>\n",
       "      <td>California</td>\n",
       "    </tr>\n",
       "    <tr>\n",
       "      <th>2</th>\n",
       "      <td>Armando</td>\n",
       "      <td>48</td>\n",
       "      <td>Lima</td>\n",
       "    </tr>\n",
       "  </tbody>\n",
       "</table>\n",
       "</div>"
      ],
      "text/plain": [
       "    Nombre  Edad      Ciudad\n",
       "0     Juan    25      Bogota\n",
       "1    Maria    30  California\n",
       "2  Armando    48        Lima"
      ]
     },
     "execution_count": 1,
     "metadata": {},
     "output_type": "execute_result"
    }
   ],
   "source": [
    "import pandas as pd\n",
    "#Crear un Dataframe de manera Manual\n",
    "data = {'Nombre' : ['Juan','Maria','Armando'],\n",
    "        'Edad' :[25,30,48],\n",
    "        'Ciudad':['Bogota','California','Lima']\n",
    "}\n",
    "df = pd.DataFrame(data)\n",
    "df"
   ]
  },
  {
   "cell_type": "code",
   "execution_count": 3,
   "id": "76b6aafa",
   "metadata": {},
   "outputs": [
    {
     "data": {
      "text/html": [
       "<div>\n",
       "<style scoped>\n",
       "    .dataframe tbody tr th:only-of-type {\n",
       "        vertical-align: middle;\n",
       "    }\n",
       "\n",
       "    .dataframe tbody tr th {\n",
       "        vertical-align: top;\n",
       "    }\n",
       "\n",
       "    .dataframe thead th {\n",
       "        text-align: right;\n",
       "    }\n",
       "</style>\n",
       "<table border=\"1\" class=\"dataframe\">\n",
       "  <thead>\n",
       "    <tr style=\"text-align: right;\">\n",
       "      <th></th>\n",
       "      <th>Index</th>\n",
       "      <th>Customer Id</th>\n",
       "      <th>First Name</th>\n",
       "      <th>Last Name</th>\n",
       "      <th>Company</th>\n",
       "      <th>City</th>\n",
       "      <th>Country</th>\n",
       "      <th>Phone 1</th>\n",
       "      <th>Phone 2</th>\n",
       "      <th>Email</th>\n",
       "      <th>Subscription Date</th>\n",
       "      <th>Website</th>\n",
       "    </tr>\n",
       "  </thead>\n",
       "  <tbody>\n",
       "    <tr>\n",
       "      <th>0</th>\n",
       "      <td>1</td>\n",
       "      <td>DD37Cf93aecA6Dc</td>\n",
       "      <td>Sheryl</td>\n",
       "      <td>Baxter</td>\n",
       "      <td>Rasmussen Group</td>\n",
       "      <td>East Leonard</td>\n",
       "      <td>Chile</td>\n",
       "      <td>229.077.5154</td>\n",
       "      <td>397.884.0519x718</td>\n",
       "      <td>zunigavanessa@smith.info</td>\n",
       "      <td>2020-08-24</td>\n",
       "      <td>http://www.stephenson.com/</td>\n",
       "    </tr>\n",
       "    <tr>\n",
       "      <th>1</th>\n",
       "      <td>2</td>\n",
       "      <td>1Ef7b82A4CAAD10</td>\n",
       "      <td>Preston</td>\n",
       "      <td>Lozano</td>\n",
       "      <td>Vega-Gentry</td>\n",
       "      <td>East Jimmychester</td>\n",
       "      <td>Djibouti</td>\n",
       "      <td>5153435776</td>\n",
       "      <td>686-620-1820x944</td>\n",
       "      <td>vmata@colon.com</td>\n",
       "      <td>2021-04-23</td>\n",
       "      <td>http://www.hobbs.com/</td>\n",
       "    </tr>\n",
       "    <tr>\n",
       "      <th>2</th>\n",
       "      <td>3</td>\n",
       "      <td>6F94879bDAfE5a6</td>\n",
       "      <td>Roy</td>\n",
       "      <td>Berry</td>\n",
       "      <td>Murillo-Perry</td>\n",
       "      <td>Isabelborough</td>\n",
       "      <td>Antigua and Barbuda</td>\n",
       "      <td>+1-539-402-0259</td>\n",
       "      <td>(496)978-3969x58947</td>\n",
       "      <td>beckycarr@hogan.com</td>\n",
       "      <td>2020-03-25</td>\n",
       "      <td>http://www.lawrence.com/</td>\n",
       "    </tr>\n",
       "    <tr>\n",
       "      <th>3</th>\n",
       "      <td>4</td>\n",
       "      <td>5Cef8BFA16c5e3c</td>\n",
       "      <td>Linda</td>\n",
       "      <td>Olsen</td>\n",
       "      <td>Dominguez, Mcmillan and Donovan</td>\n",
       "      <td>Bensonview</td>\n",
       "      <td>Dominican Republic</td>\n",
       "      <td>001-808-617-6467x12895</td>\n",
       "      <td>+1-813-324-8756</td>\n",
       "      <td>stanleyblackwell@benson.org</td>\n",
       "      <td>2020-06-02</td>\n",
       "      <td>http://www.good-lyons.com/</td>\n",
       "    </tr>\n",
       "    <tr>\n",
       "      <th>4</th>\n",
       "      <td>5</td>\n",
       "      <td>053d585Ab6b3159</td>\n",
       "      <td>Joanna</td>\n",
       "      <td>Bender</td>\n",
       "      <td>Martin, Lang and Andrade</td>\n",
       "      <td>West Priscilla</td>\n",
       "      <td>Slovakia (Slovak Republic)</td>\n",
       "      <td>001-234-203-0635x76146</td>\n",
       "      <td>001-199-446-3860x3486</td>\n",
       "      <td>colinalvarado@miles.net</td>\n",
       "      <td>2021-04-17</td>\n",
       "      <td>https://goodwin-ingram.com/</td>\n",
       "    </tr>\n",
       "    <tr>\n",
       "      <th>...</th>\n",
       "      <td>...</td>\n",
       "      <td>...</td>\n",
       "      <td>...</td>\n",
       "      <td>...</td>\n",
       "      <td>...</td>\n",
       "      <td>...</td>\n",
       "      <td>...</td>\n",
       "      <td>...</td>\n",
       "      <td>...</td>\n",
       "      <td>...</td>\n",
       "      <td>...</td>\n",
       "      <td>...</td>\n",
       "    </tr>\n",
       "    <tr>\n",
       "      <th>95</th>\n",
       "      <td>96</td>\n",
       "      <td>cb8E23e48d22Eae</td>\n",
       "      <td>Karl</td>\n",
       "      <td>Greer</td>\n",
       "      <td>Carey LLC</td>\n",
       "      <td>East Richard</td>\n",
       "      <td>Guyana</td>\n",
       "      <td>(188)169-1674x58692</td>\n",
       "      <td>001-841-293-3519x614</td>\n",
       "      <td>hhart@jensen.com</td>\n",
       "      <td>2022-01-30</td>\n",
       "      <td>http://hayes-perez.com/</td>\n",
       "    </tr>\n",
       "    <tr>\n",
       "      <th>96</th>\n",
       "      <td>97</td>\n",
       "      <td>CeD220bdAaCfaDf</td>\n",
       "      <td>Lynn</td>\n",
       "      <td>Atkinson</td>\n",
       "      <td>Ware, Burns and Oneal</td>\n",
       "      <td>New Bradview</td>\n",
       "      <td>Sri Lanka</td>\n",
       "      <td>+1-846-706-2218</td>\n",
       "      <td>605.413.3198</td>\n",
       "      <td>vkemp@ferrell.com</td>\n",
       "      <td>2021-07-10</td>\n",
       "      <td>https://novak-allison.com/</td>\n",
       "    </tr>\n",
       "    <tr>\n",
       "      <th>97</th>\n",
       "      <td>98</td>\n",
       "      <td>28CDbC0dFe4b1Db</td>\n",
       "      <td>Fred</td>\n",
       "      <td>Guerra</td>\n",
       "      <td>Schmitt-Jones</td>\n",
       "      <td>Ortegaland</td>\n",
       "      <td>Solomon Islands</td>\n",
       "      <td>+1-753-067-8419x7170</td>\n",
       "      <td>+1-632-666-7507x92121</td>\n",
       "      <td>swagner@kane.org</td>\n",
       "      <td>2021-09-18</td>\n",
       "      <td>https://www.ross.com/</td>\n",
       "    </tr>\n",
       "    <tr>\n",
       "      <th>98</th>\n",
       "      <td>99</td>\n",
       "      <td>c23d1D9EE8DEB0A</td>\n",
       "      <td>Yvonne</td>\n",
       "      <td>Farmer</td>\n",
       "      <td>Fitzgerald-Harrell</td>\n",
       "      <td>Lake Elijahview</td>\n",
       "      <td>Aruba</td>\n",
       "      <td>(530)311-9786</td>\n",
       "      <td>001-869-452-0943x12424</td>\n",
       "      <td>mccarthystephen@horn-green.biz</td>\n",
       "      <td>2021-08-11</td>\n",
       "      <td>http://watkins.info/</td>\n",
       "    </tr>\n",
       "    <tr>\n",
       "      <th>99</th>\n",
       "      <td>100</td>\n",
       "      <td>2354a0E336A91A1</td>\n",
       "      <td>Clarence</td>\n",
       "      <td>Haynes</td>\n",
       "      <td>Le, Nash and Cross</td>\n",
       "      <td>Judymouth</td>\n",
       "      <td>Honduras</td>\n",
       "      <td>(753)813-6941</td>\n",
       "      <td>783.639.1472</td>\n",
       "      <td>colleen91@faulkner.biz</td>\n",
       "      <td>2020-03-11</td>\n",
       "      <td>http://www.hatfield-saunders.net/</td>\n",
       "    </tr>\n",
       "  </tbody>\n",
       "</table>\n",
       "<p>100 rows × 12 columns</p>\n",
       "</div>"
      ],
      "text/plain": [
       "    Index      Customer Id First Name Last Name  \\\n",
       "0       1  DD37Cf93aecA6Dc     Sheryl    Baxter   \n",
       "1       2  1Ef7b82A4CAAD10    Preston    Lozano   \n",
       "2       3  6F94879bDAfE5a6        Roy     Berry   \n",
       "3       4  5Cef8BFA16c5e3c      Linda     Olsen   \n",
       "4       5  053d585Ab6b3159     Joanna    Bender   \n",
       "..    ...              ...        ...       ...   \n",
       "95     96  cb8E23e48d22Eae       Karl     Greer   \n",
       "96     97  CeD220bdAaCfaDf       Lynn  Atkinson   \n",
       "97     98  28CDbC0dFe4b1Db       Fred    Guerra   \n",
       "98     99  c23d1D9EE8DEB0A     Yvonne    Farmer   \n",
       "99    100  2354a0E336A91A1   Clarence    Haynes   \n",
       "\n",
       "                            Company               City  \\\n",
       "0                   Rasmussen Group       East Leonard   \n",
       "1                       Vega-Gentry  East Jimmychester   \n",
       "2                     Murillo-Perry      Isabelborough   \n",
       "3   Dominguez, Mcmillan and Donovan         Bensonview   \n",
       "4          Martin, Lang and Andrade     West Priscilla   \n",
       "..                              ...                ...   \n",
       "95                        Carey LLC       East Richard   \n",
       "96            Ware, Burns and Oneal       New Bradview   \n",
       "97                    Schmitt-Jones         Ortegaland   \n",
       "98               Fitzgerald-Harrell    Lake Elijahview   \n",
       "99               Le, Nash and Cross          Judymouth   \n",
       "\n",
       "                       Country                 Phone 1  \\\n",
       "0                        Chile            229.077.5154   \n",
       "1                     Djibouti              5153435776   \n",
       "2          Antigua and Barbuda         +1-539-402-0259   \n",
       "3           Dominican Republic  001-808-617-6467x12895   \n",
       "4   Slovakia (Slovak Republic)  001-234-203-0635x76146   \n",
       "..                         ...                     ...   \n",
       "95                      Guyana     (188)169-1674x58692   \n",
       "96                   Sri Lanka         +1-846-706-2218   \n",
       "97             Solomon Islands    +1-753-067-8419x7170   \n",
       "98                       Aruba           (530)311-9786   \n",
       "99                    Honduras           (753)813-6941   \n",
       "\n",
       "                   Phone 2                           Email Subscription Date  \\\n",
       "0         397.884.0519x718        zunigavanessa@smith.info        2020-08-24   \n",
       "1         686-620-1820x944                 vmata@colon.com        2021-04-23   \n",
       "2      (496)978-3969x58947             beckycarr@hogan.com        2020-03-25   \n",
       "3          +1-813-324-8756     stanleyblackwell@benson.org        2020-06-02   \n",
       "4    001-199-446-3860x3486         colinalvarado@miles.net        2021-04-17   \n",
       "..                     ...                             ...               ...   \n",
       "95    001-841-293-3519x614                hhart@jensen.com        2022-01-30   \n",
       "96            605.413.3198               vkemp@ferrell.com        2021-07-10   \n",
       "97   +1-632-666-7507x92121                swagner@kane.org        2021-09-18   \n",
       "98  001-869-452-0943x12424  mccarthystephen@horn-green.biz        2021-08-11   \n",
       "99            783.639.1472          colleen91@faulkner.biz        2020-03-11   \n",
       "\n",
       "                              Website  \n",
       "0          http://www.stephenson.com/  \n",
       "1               http://www.hobbs.com/  \n",
       "2            http://www.lawrence.com/  \n",
       "3          http://www.good-lyons.com/  \n",
       "4         https://goodwin-ingram.com/  \n",
       "..                                ...  \n",
       "95            http://hayes-perez.com/  \n",
       "96         https://novak-allison.com/  \n",
       "97              https://www.ross.com/  \n",
       "98               http://watkins.info/  \n",
       "99  http://www.hatfield-saunders.net/  \n",
       "\n",
       "[100 rows x 12 columns]"
      ]
     },
     "execution_count": 3,
     "metadata": {},
     "output_type": "execute_result"
    }
   ],
   "source": [
    "#Crear un DataFrame en base a un CSV\n",
    "df_clientes=pd.read_csv('customers.csv')\n",
    "#pd_read_json()\n",
    "#pd_read_sql()\n",
    "#pd_read_excel()\n",
    "df_clientes"
   ]
  },
  {
   "cell_type": "code",
   "execution_count": 9,
   "id": "6a42f633",
   "metadata": {},
   "outputs": [
    {
     "name": "stdout",
     "output_type": "stream",
     "text": [
      "<class 'pandas.core.frame.DataFrame'>\n",
      "RangeIndex: 100 entries, 0 to 99\n",
      "Data columns (total 12 columns):\n",
      " #   Column             Non-Null Count  Dtype \n",
      "---  ------             --------------  ----- \n",
      " 0   Index              100 non-null    int64 \n",
      " 1   Customer Id        100 non-null    object\n",
      " 2   First Name         100 non-null    object\n",
      " 3   Last Name          100 non-null    object\n",
      " 4   Company            100 non-null    object\n",
      " 5   City               100 non-null    object\n",
      " 6   Country            100 non-null    object\n",
      " 7   Phone 1            100 non-null    object\n",
      " 8   Phone 2            100 non-null    object\n",
      " 9   Email              100 non-null    object\n",
      " 10  Subscription Date  100 non-null    object\n",
      " 11  Website            100 non-null    object\n",
      "dtypes: int64(1), object(11)\n",
      "memory usage: 9.5+ KB\n"
     ]
    },
    {
     "data": {
      "text/html": [
       "<div>\n",
       "<style scoped>\n",
       "    .dataframe tbody tr th:only-of-type {\n",
       "        vertical-align: middle;\n",
       "    }\n",
       "\n",
       "    .dataframe tbody tr th {\n",
       "        vertical-align: top;\n",
       "    }\n",
       "\n",
       "    .dataframe thead th {\n",
       "        text-align: right;\n",
       "    }\n",
       "</style>\n",
       "<table border=\"1\" class=\"dataframe\">\n",
       "  <thead>\n",
       "    <tr style=\"text-align: right;\">\n",
       "      <th></th>\n",
       "      <th>Index</th>\n",
       "    </tr>\n",
       "  </thead>\n",
       "  <tbody>\n",
       "    <tr>\n",
       "      <th>count</th>\n",
       "      <td>100.000000</td>\n",
       "    </tr>\n",
       "    <tr>\n",
       "      <th>mean</th>\n",
       "      <td>50.500000</td>\n",
       "    </tr>\n",
       "    <tr>\n",
       "      <th>std</th>\n",
       "      <td>29.011492</td>\n",
       "    </tr>\n",
       "    <tr>\n",
       "      <th>min</th>\n",
       "      <td>1.000000</td>\n",
       "    </tr>\n",
       "    <tr>\n",
       "      <th>25%</th>\n",
       "      <td>25.750000</td>\n",
       "    </tr>\n",
       "    <tr>\n",
       "      <th>50%</th>\n",
       "      <td>50.500000</td>\n",
       "    </tr>\n",
       "    <tr>\n",
       "      <th>75%</th>\n",
       "      <td>75.250000</td>\n",
       "    </tr>\n",
       "    <tr>\n",
       "      <th>max</th>\n",
       "      <td>100.000000</td>\n",
       "    </tr>\n",
       "  </tbody>\n",
       "</table>\n",
       "</div>"
      ],
      "text/plain": [
       "            Index\n",
       "count  100.000000\n",
       "mean    50.500000\n",
       "std     29.011492\n",
       "min      1.000000\n",
       "25%     25.750000\n",
       "50%     50.500000\n",
       "75%     75.250000\n",
       "max    100.000000"
      ]
     },
     "execution_count": 9,
     "metadata": {},
     "output_type": "execute_result"
    }
   ],
   "source": [
    "df_clientes.head() #Muestra la cantidad de filas asc\n",
    "df_clientes.tail()  #Muestra la cantidad de filas desc\n",
    "df_clientes.info() #Nos Muestra al informacion sobre las columnas, sus tipos de datos y si hay null"
   ]
  },
  {
   "cell_type": "code",
   "execution_count": 10,
   "id": "24adaceb",
   "metadata": {},
   "outputs": [
    {
     "data": {
      "text/html": [
       "<div>\n",
       "<style scoped>\n",
       "    .dataframe tbody tr th:only-of-type {\n",
       "        vertical-align: middle;\n",
       "    }\n",
       "\n",
       "    .dataframe tbody tr th {\n",
       "        vertical-align: top;\n",
       "    }\n",
       "\n",
       "    .dataframe thead th {\n",
       "        text-align: right;\n",
       "    }\n",
       "</style>\n",
       "<table border=\"1\" class=\"dataframe\">\n",
       "  <thead>\n",
       "    <tr style=\"text-align: right;\">\n",
       "      <th></th>\n",
       "      <th>Index</th>\n",
       "    </tr>\n",
       "  </thead>\n",
       "  <tbody>\n",
       "    <tr>\n",
       "      <th>count</th>\n",
       "      <td>100.000000</td>\n",
       "    </tr>\n",
       "    <tr>\n",
       "      <th>mean</th>\n",
       "      <td>50.500000</td>\n",
       "    </tr>\n",
       "    <tr>\n",
       "      <th>std</th>\n",
       "      <td>29.011492</td>\n",
       "    </tr>\n",
       "    <tr>\n",
       "      <th>min</th>\n",
       "      <td>1.000000</td>\n",
       "    </tr>\n",
       "    <tr>\n",
       "      <th>25%</th>\n",
       "      <td>25.750000</td>\n",
       "    </tr>\n",
       "    <tr>\n",
       "      <th>50%</th>\n",
       "      <td>50.500000</td>\n",
       "    </tr>\n",
       "    <tr>\n",
       "      <th>75%</th>\n",
       "      <td>75.250000</td>\n",
       "    </tr>\n",
       "    <tr>\n",
       "      <th>max</th>\n",
       "      <td>100.000000</td>\n",
       "    </tr>\n",
       "  </tbody>\n",
       "</table>\n",
       "</div>"
      ],
      "text/plain": [
       "            Index\n",
       "count  100.000000\n",
       "mean    50.500000\n",
       "std     29.011492\n",
       "min      1.000000\n",
       "25%     25.750000\n",
       "50%     50.500000\n",
       "75%     75.250000\n",
       "max    100.000000"
      ]
     },
     "execution_count": 10,
     "metadata": {},
     "output_type": "execute_result"
    }
   ],
   "source": [
    "df_clientes.describe() #Valores estadisticos notorios"
   ]
  },
  {
   "cell_type": "code",
   "execution_count": 14,
   "id": "7af4c080",
   "metadata": {},
   "outputs": [
    {
     "data": {
      "text/html": [
       "<div>\n",
       "<style scoped>\n",
       "    .dataframe tbody tr th:only-of-type {\n",
       "        vertical-align: middle;\n",
       "    }\n",
       "\n",
       "    .dataframe tbody tr th {\n",
       "        vertical-align: top;\n",
       "    }\n",
       "\n",
       "    .dataframe thead th {\n",
       "        text-align: right;\n",
       "    }\n",
       "</style>\n",
       "<table border=\"1\" class=\"dataframe\">\n",
       "  <thead>\n",
       "    <tr style=\"text-align: right;\">\n",
       "      <th></th>\n",
       "      <th>Customer Id</th>\n",
       "      <th>First Name</th>\n",
       "      <th>Last Name</th>\n",
       "      <th>Email</th>\n",
       "    </tr>\n",
       "  </thead>\n",
       "  <tbody>\n",
       "    <tr>\n",
       "      <th>9</th>\n",
       "      <td>8C2811a503C7c5a</td>\n",
       "      <td>Michelle</td>\n",
       "      <td>Gallagher</td>\n",
       "      <td>mdyer@escobar.net</td>\n",
       "    </tr>\n",
       "    <tr>\n",
       "      <th>12</th>\n",
       "      <td>e35426EbDEceaFF</td>\n",
       "      <td>Tracey</td>\n",
       "      <td>Mata</td>\n",
       "      <td>alex56@walls.org</td>\n",
       "    </tr>\n",
       "    <tr>\n",
       "      <th>56</th>\n",
       "      <td>c8FE57cBBdCDcb2</td>\n",
       "      <td>Phyllis</td>\n",
       "      <td>Maldonado</td>\n",
       "      <td>yhanson@warner-diaz.org</td>\n",
       "    </tr>\n",
       "    <tr>\n",
       "      <th>60</th>\n",
       "      <td>a940cE42e035F28</td>\n",
       "      <td>Lynn</td>\n",
       "      <td>Pham</td>\n",
       "      <td>mpham@rios-guzman.com</td>\n",
       "    </tr>\n",
       "    <tr>\n",
       "      <th>99</th>\n",
       "      <td>2354a0E336A91A1</td>\n",
       "      <td>Clarence</td>\n",
       "      <td>Haynes</td>\n",
       "      <td>colleen91@faulkner.biz</td>\n",
       "    </tr>\n",
       "  </tbody>\n",
       "</table>\n",
       "</div>"
      ],
      "text/plain": [
       "        Customer Id First Name  Last Name                    Email\n",
       "9   8C2811a503C7c5a   Michelle  Gallagher        mdyer@escobar.net\n",
       "12  e35426EbDEceaFF     Tracey       Mata         alex56@walls.org\n",
       "56  c8FE57cBBdCDcb2    Phyllis  Maldonado  yhanson@warner-diaz.org\n",
       "60  a940cE42e035F28       Lynn       Pham    mpham@rios-guzman.com\n",
       "99  2354a0E336A91A1   Clarence     Haynes   colleen91@faulkner.biz"
      ]
     },
     "execution_count": 14,
     "metadata": {},
     "output_type": "execute_result"
    }
   ],
   "source": [
    "df_clientes[['Customer Id','First Name','Last Name','Email']] #Mostrar las columnas o series deseadas\n",
    "df_clientes.loc[[9,12,56,60,99]]#localizar las filas indicadas\n",
    "df_clientes.loc[[9,12,56,60,99],['Customer Id','First Name','Last Name','Email']]"
   ]
  },
  {
   "cell_type": "code",
   "execution_count": 30,
   "id": "704705a4",
   "metadata": {},
   "outputs": [
    {
     "data": {
      "text/html": [
       "<div>\n",
       "<style scoped>\n",
       "    .dataframe tbody tr th:only-of-type {\n",
       "        vertical-align: middle;\n",
       "    }\n",
       "\n",
       "    .dataframe tbody tr th {\n",
       "        vertical-align: top;\n",
       "    }\n",
       "\n",
       "    .dataframe thead th {\n",
       "        text-align: right;\n",
       "    }\n",
       "</style>\n",
       "<table border=\"1\" class=\"dataframe\">\n",
       "  <thead>\n",
       "    <tr style=\"text-align: right;\">\n",
       "      <th></th>\n",
       "      <th>Country</th>\n",
       "      <th>Cantidad_Clientes</th>\n",
       "    </tr>\n",
       "  </thead>\n",
       "  <tbody>\n",
       "    <tr>\n",
       "      <th>0</th>\n",
       "      <td>Chile</td>\n",
       "      <td>1</td>\n",
       "    </tr>\n",
       "    <tr>\n",
       "      <th>1</th>\n",
       "      <td>Zimbabwe</td>\n",
       "      <td>2</td>\n",
       "    </tr>\n",
       "  </tbody>\n",
       "</table>\n",
       "</div>"
      ],
      "text/plain": [
       "    Country  Cantidad_Clientes\n",
       "0     Chile                  1\n",
       "1  Zimbabwe                  2"
      ]
     },
     "execution_count": 30,
     "metadata": {},
     "output_type": "execute_result"
    }
   ],
   "source": [
    "df_clientes.head(30)\n",
    "df_clientes['Country']=='Chile'\n",
    "df_clientes.loc[df_clientes['Country']=='Zimbabwe'].head()\n",
    "clientes_por_pais=df_clientes.groupby('Country').size().reset_index(name='Cantidad_Clientes')\n",
    "\n",
    "paises_filtar=['Zimbabwe','Chile'] # A partir de esta Lista\n",
    "df_filtrado=df_clientes[df_clientes['Country'].isin(paises_filtar)]\n",
    "df_filtrado.groupby('Country').size().reset_index(name='Cantidad_Clientes')\n",
    "\n",
    "\n",
    "#df_clientes['Country'].unique()\n"
   ]
  },
  {
   "cell_type": "code",
   "execution_count": 43,
   "id": "ebf1d642",
   "metadata": {},
   "outputs": [
    {
     "data": {
      "text/html": [
       "<div>\n",
       "<style scoped>\n",
       "    .dataframe tbody tr th:only-of-type {\n",
       "        vertical-align: middle;\n",
       "    }\n",
       "\n",
       "    .dataframe tbody tr th {\n",
       "        vertical-align: top;\n",
       "    }\n",
       "\n",
       "    .dataframe thead th {\n",
       "        text-align: right;\n",
       "    }\n",
       "</style>\n",
       "<table border=\"1\" class=\"dataframe\">\n",
       "  <thead>\n",
       "    <tr style=\"text-align: right;\">\n",
       "      <th></th>\n",
       "      <th>Index</th>\n",
       "      <th>Customer Id</th>\n",
       "      <th>First Name</th>\n",
       "      <th>Last Name</th>\n",
       "      <th>Company</th>\n",
       "      <th>City</th>\n",
       "      <th>Country</th>\n",
       "      <th>Phone 1</th>\n",
       "      <th>Phone 2</th>\n",
       "      <th>Email</th>\n",
       "      <th>Subscription Date</th>\n",
       "      <th>Website</th>\n",
       "      <th>Edad</th>\n",
       "    </tr>\n",
       "  </thead>\n",
       "  <tbody>\n",
       "    <tr>\n",
       "      <th>8</th>\n",
       "      <td>9</td>\n",
       "      <td>C2dE4dEEc489ae0</td>\n",
       "      <td>Sheryl</td>\n",
       "      <td>Meyers</td>\n",
       "      <td>Browning-Simon</td>\n",
       "      <td>Robersonstad</td>\n",
       "      <td>Cyprus</td>\n",
       "      <td>854-138-4911x5772</td>\n",
       "      <td>+1-448-910-2276x729</td>\n",
       "      <td>mariokhan@ryan-pope.org</td>\n",
       "      <td>2020-01-13</td>\n",
       "      <td>https://www.bullock.net/</td>\n",
       "      <td>92</td>\n",
       "    </tr>\n",
       "    <tr>\n",
       "      <th>15</th>\n",
       "      <td>16</td>\n",
       "      <td>8cad0b4CBceaeec</td>\n",
       "      <td>Miranda</td>\n",
       "      <td>Beasley</td>\n",
       "      <td>Singleton and Sons</td>\n",
       "      <td>Desireeshire</td>\n",
       "      <td>Oman</td>\n",
       "      <td>540.085.3135x185</td>\n",
       "      <td>+1-600-462-6432x21881</td>\n",
       "      <td>vduncan@parks-hardy.com</td>\n",
       "      <td>2022-04-12</td>\n",
       "      <td>http://acosta.org/</td>\n",
       "      <td>97</td>\n",
       "    </tr>\n",
       "    <tr>\n",
       "      <th>20</th>\n",
       "      <td>21</td>\n",
       "      <td>9F9AdB7B8A6f7F2</td>\n",
       "      <td>Maxwell</td>\n",
       "      <td>Frye</td>\n",
       "      <td>Patterson Inc</td>\n",
       "      <td>East Carly</td>\n",
       "      <td>Malta</td>\n",
       "      <td>423.262.3059</td>\n",
       "      <td>202-880-0688x7491</td>\n",
       "      <td>fgibson@drake-webb.com</td>\n",
       "      <td>2022-01-12</td>\n",
       "      <td>http://www.roberts.com/</td>\n",
       "      <td>99</td>\n",
       "    </tr>\n",
       "    <tr>\n",
       "      <th>36</th>\n",
       "      <td>37</td>\n",
       "      <td>889eCf90f68c5Da</td>\n",
       "      <td>Nicholas</td>\n",
       "      <td>Sosa</td>\n",
       "      <td>Jordan Ltd</td>\n",
       "      <td>South Hunter</td>\n",
       "      <td>Uruguay</td>\n",
       "      <td>(661)425-6042</td>\n",
       "      <td>975-998-1519</td>\n",
       "      <td>fwolfe@dorsey.com</td>\n",
       "      <td>2021-08-10</td>\n",
       "      <td>https://www.fleming-richards.com/</td>\n",
       "      <td>96</td>\n",
       "    </tr>\n",
       "    <tr>\n",
       "      <th>53</th>\n",
       "      <td>54</td>\n",
       "      <td>c09952De6Cda8aA</td>\n",
       "      <td>Stacie</td>\n",
       "      <td>Richard</td>\n",
       "      <td>Byrd Inc</td>\n",
       "      <td>New Deborah</td>\n",
       "      <td>Madagascar</td>\n",
       "      <td>001-622-948-3641x24810</td>\n",
       "      <td>001-731-168-2893x8891</td>\n",
       "      <td>clinton85@colon-arias.org</td>\n",
       "      <td>2020-10-15</td>\n",
       "      <td>https://kim.com/</td>\n",
       "      <td>95</td>\n",
       "    </tr>\n",
       "    <tr>\n",
       "      <th>54</th>\n",
       "      <td>55</td>\n",
       "      <td>f3BEf3Be028166f</td>\n",
       "      <td>Robin</td>\n",
       "      <td>West</td>\n",
       "      <td>Nixon, Blackwell and Sosa</td>\n",
       "      <td>Wallstown</td>\n",
       "      <td>Ecuador</td>\n",
       "      <td>698.303.4267</td>\n",
       "      <td>001-683-837-7651x525</td>\n",
       "      <td>greenemiranda@zimmerman.com</td>\n",
       "      <td>2022-01-13</td>\n",
       "      <td>https://www.mora.com/</td>\n",
       "      <td>95</td>\n",
       "    </tr>\n",
       "    <tr>\n",
       "      <th>62</th>\n",
       "      <td>63</td>\n",
       "      <td>aEcbe5365BbC67D</td>\n",
       "      <td>Eddie</td>\n",
       "      <td>Jimenez</td>\n",
       "      <td>Caldwell Group</td>\n",
       "      <td>West Kristine</td>\n",
       "      <td>Ethiopia</td>\n",
       "      <td>+1-235-657-1073x6306</td>\n",
       "      <td>(026)401-7353x2417</td>\n",
       "      <td>kristiwhitney@bernard.com</td>\n",
       "      <td>2022-03-24</td>\n",
       "      <td>http://cherry.com/</td>\n",
       "      <td>95</td>\n",
       "    </tr>\n",
       "    <tr>\n",
       "      <th>67</th>\n",
       "      <td>68</td>\n",
       "      <td>a014Ec1b9FccC1E</td>\n",
       "      <td>Tom</td>\n",
       "      <td>Alvarado</td>\n",
       "      <td>Donaldson-Dougherty</td>\n",
       "      <td>South Sophiaberg</td>\n",
       "      <td>Kiribati</td>\n",
       "      <td>(585)606-2980x2258</td>\n",
       "      <td>730-797-3594x5614</td>\n",
       "      <td>nicholsonnina@montgomery.info</td>\n",
       "      <td>2020-08-18</td>\n",
       "      <td>http://odom-massey.com/</td>\n",
       "      <td>93</td>\n",
       "    </tr>\n",
       "    <tr>\n",
       "      <th>88</th>\n",
       "      <td>89</td>\n",
       "      <td>efeb73245CDf1fF</td>\n",
       "      <td>Vernon</td>\n",
       "      <td>Kane</td>\n",
       "      <td>Carter-Strickland</td>\n",
       "      <td>Thomasfurt</td>\n",
       "      <td>Yemen</td>\n",
       "      <td>114-854-1159x555</td>\n",
       "      <td>499-608-4612</td>\n",
       "      <td>hilljesse@barrett.info</td>\n",
       "      <td>2021-04-15</td>\n",
       "      <td>http://www.duffy-hensley.net/</td>\n",
       "      <td>97</td>\n",
       "    </tr>\n",
       "  </tbody>\n",
       "</table>\n",
       "</div>"
      ],
      "text/plain": [
       "    Index      Customer Id First Name Last Name                    Company  \\\n",
       "8       9  C2dE4dEEc489ae0     Sheryl    Meyers             Browning-Simon   \n",
       "15     16  8cad0b4CBceaeec    Miranda   Beasley         Singleton and Sons   \n",
       "20     21  9F9AdB7B8A6f7F2    Maxwell      Frye              Patterson Inc   \n",
       "36     37  889eCf90f68c5Da   Nicholas      Sosa                 Jordan Ltd   \n",
       "53     54  c09952De6Cda8aA     Stacie   Richard                   Byrd Inc   \n",
       "54     55  f3BEf3Be028166f      Robin      West  Nixon, Blackwell and Sosa   \n",
       "62     63  aEcbe5365BbC67D      Eddie   Jimenez             Caldwell Group   \n",
       "67     68  a014Ec1b9FccC1E        Tom  Alvarado        Donaldson-Dougherty   \n",
       "88     89  efeb73245CDf1fF     Vernon      Kane          Carter-Strickland   \n",
       "\n",
       "                City     Country                 Phone 1  \\\n",
       "8       Robersonstad      Cyprus       854-138-4911x5772   \n",
       "15      Desireeshire        Oman        540.085.3135x185   \n",
       "20        East Carly       Malta            423.262.3059   \n",
       "36      South Hunter     Uruguay           (661)425-6042   \n",
       "53       New Deborah  Madagascar  001-622-948-3641x24810   \n",
       "54         Wallstown     Ecuador            698.303.4267   \n",
       "62     West Kristine    Ethiopia    +1-235-657-1073x6306   \n",
       "67  South Sophiaberg    Kiribati      (585)606-2980x2258   \n",
       "88        Thomasfurt       Yemen        114-854-1159x555   \n",
       "\n",
       "                  Phone 2                          Email Subscription Date  \\\n",
       "8     +1-448-910-2276x729        mariokhan@ryan-pope.org        2020-01-13   \n",
       "15  +1-600-462-6432x21881        vduncan@parks-hardy.com        2022-04-12   \n",
       "20      202-880-0688x7491         fgibson@drake-webb.com        2022-01-12   \n",
       "36           975-998-1519              fwolfe@dorsey.com        2021-08-10   \n",
       "53  001-731-168-2893x8891      clinton85@colon-arias.org        2020-10-15   \n",
       "54   001-683-837-7651x525    greenemiranda@zimmerman.com        2022-01-13   \n",
       "62     (026)401-7353x2417      kristiwhitney@bernard.com        2022-03-24   \n",
       "67      730-797-3594x5614  nicholsonnina@montgomery.info        2020-08-18   \n",
       "88           499-608-4612         hilljesse@barrett.info        2021-04-15   \n",
       "\n",
       "                              Website  Edad  \n",
       "8            https://www.bullock.net/    92  \n",
       "15                 http://acosta.org/    97  \n",
       "20            http://www.roberts.com/    99  \n",
       "36  https://www.fleming-richards.com/    96  \n",
       "53                   https://kim.com/    95  \n",
       "54              https://www.mora.com/    95  \n",
       "62                 http://cherry.com/    95  \n",
       "67            http://odom-massey.com/    93  \n",
       "88      http://www.duffy-hensley.net/    97  "
      ]
     },
     "execution_count": 43,
     "metadata": {},
     "output_type": "execute_result"
    }
   ],
   "source": [
    "import numpy as np\n",
    "df_clientes[['Customer Id','First Name','Last Name','Email']] \n",
    "valores_edad=np.random.randint(20,101,100)\n",
    "valores_edad\n",
    "df_clientes['Edad'] =valores_edad\n",
    "mayores_a_90=df_clientes[(df_clientes['Edad']>=90) & (df_clientes['Edad']<=99)]"
   ]
  },
  {
   "cell_type": "code",
   "execution_count": 46,
   "id": "da85e913",
   "metadata": {},
   "outputs": [
    {
     "data": {
      "text/plain": [
       "(9, 13)"
      ]
     },
     "execution_count": 46,
     "metadata": {},
     "output_type": "execute_result"
    }
   ],
   "source": [
    "nombre_archivo='clientes_90.csv'\n",
    "mayores_a_90.to_csv(nombre_archivo,index=False)#Generar un Archivo a partir de un DF\n",
    "mayores_a_90.shape #Columnas "
   ]
  },
  {
   "cell_type": "markdown",
   "id": "c232ca26",
   "metadata": {},
   "source": [
    "# Guia Rapida"
   ]
  },
  {
   "cell_type": "code",
   "execution_count": null,
   "id": "b9ba9aa4",
   "metadata": {},
   "outputs": [],
   "source": [
    "df = pd.read_csv('file.csv') #Importa el documento\n",
    "df = pd.read_csv('file.csv', index_col=0) #Toma la columna 0 como el índice\n",
    "df = pd.read_html(url) #Importa HTML, necesitas tener BeautifulSoup para manipulación de datos\n",
    "#Otras opciones\n",
    "df = pd.read_json()\n",
    "df = pd.read_sql()\n",
    "df = pd.read_excel()\n",
    "\n",
    "#Guardar el DataFrame como archivo\n",
    "df.to_csv('file_name.csv',index=False) #Esta opción guardará el DataFrame como csv sin índice indicado\n",
    "\n",
    "#Opciones\n",
    "df.to_json()\n",
    "df.to_sql()\n",
    "pd.to_excel()\n",
    "\n",
    "#Atributos\n",
    "df.columns #Regresa las columnas del DataFrame\n",
    "df.dtypes #Regresa los tipos de datos\n",
    "df.index #Regresa el indice\n",
    "df.shape #Regresa la forma (cantidad de filas y columnas)\n",
    "df.T #Regresa el DataFrame invertido (horizontal-vertical)\n",
    "df.values #Regresa los valores\n",
    "\n",
    "#Metodos estaticos\n",
    "df.describe() #Regresa las estadísticas de un DataFrame\n",
    "df.max() #Regresa el valor máximo\n",
    "df.mean() #Regresa la media\n",
    "df.median() #Regresa la mediana\n",
    "df.min() # Regresa el valor mínimo de cada columna\n",
    "df.mode() #Regresa la moda\n",
    "df.std() # Regresa la desviación estándar de cada columna\n",
    "df.var() #Regresa la varianza\n",
    "df.abs() #Regresa los valores absolutos\n",
    "df.corr() #Regresa las correlaciones en un DataFrame\n",
    "df.round() #Redondea los números\n",
    "\n",
    "\n",
    "df.head() #Regresa los primeros 5 valores\n",
    "df.tail() #Regresa los últimos 5 valores\n",
    "\n",
    "df['column_name'] #Regresa todos los valores de la columna específicada\n",
    "df.column_name #Regresa todos los valores de la columna especificada\n",
    "df['column_name', 'second_column'] #Regresa las columnas indicadas en un nuevo DataFrame\n",
    "df[7:9] #Imprime las columnas indicadas por su número de índice\n",
    "df.value_counts(dropna=True)  #Regresa todos los valores quitando los null values\n",
    "df.sort_index(axis=0, ascending=False) #Returns dataframe sorted by index\n",
    "df.apply(pd.Series.value_counts) #Regresa la suma de cada valor por columna\n",
    "df.sort_values(by='column_name') #Regresa el DataFrame ordernado por la columna seleccionada\n",
    "df.groupby('column_name').mean() #Regresa el DataFrame ordenado por la media de la columna seleccionada\n",
    "df.pivot_table #PivotTable\n",
    "df.iloc[0] #Selecciona el primer valor\n",
    "df.loc['index_one'] #Seleccion basada en el index\n",
    "df.iloc[0,:]  #Regresa la primera fila\n",
    "df.iloc[0,0] #Regresa el primer elemento del DataFrame"
   ]
  },
  {
   "cell_type": "markdown",
   "id": "34559915",
   "metadata": {},
   "source": [
    "## numpy\n",
    "- Es Una Biblioteca que proporciona soporte para el trabajo con arreglos unidimencionales y multdimencionales , una variedad de funciones matematicas para operar arreglos.\n",
    "![numpy](numpy.png)"
   ]
  },
  {
   "cell_type": "code",
   "execution_count": 1,
   "id": "9f75e5b6",
   "metadata": {},
   "outputs": [],
   "source": [
    "import numpy as np\n"
   ]
  },
  {
   "cell_type": "code",
   "execution_count": 2,
   "id": "1ace4882",
   "metadata": {},
   "outputs": [
    {
     "data": {
      "text/plain": [
       "array([1, 2, 3, 4, 5])"
      ]
     },
     "execution_count": 2,
     "metadata": {},
     "output_type": "execute_result"
    }
   ],
   "source": [
    "#Crear un Array unidimencional y realizar operaciones en el array\n",
    "arr =np.array([1,2,3,4,5])\n",
    "arr"
   ]
  },
  {
   "cell_type": "code",
   "execution_count": 5,
   "id": "5eb1111f",
   "metadata": {},
   "outputs": [
    {
     "data": {
      "text/plain": [
       "120"
      ]
     },
     "execution_count": 5,
     "metadata": {},
     "output_type": "execute_result"
    }
   ],
   "source": [
    "#Operando el array y con estas funciones matematicas\n",
    "np.sum(arr)\n",
    "np.mean(arr)\n",
    "np.prod(arr)"
   ]
  },
  {
   "cell_type": "code",
   "execution_count": 8,
   "id": "f22ef33a",
   "metadata": {},
   "outputs": [
    {
     "data": {
      "text/plain": [
       "array([0.56297596, 0.93459571, 0.3670812 , 0.73246956, 0.27289992,\n",
       "       0.44167781, 0.08906586, 0.64233238, 0.64507219, 0.9455871 ,\n",
       "       0.43525558, 0.78552848, 0.78062474, 0.14711287, 0.23719184,\n",
       "       0.691208  , 0.36397904, 0.94517267, 0.76318432, 0.89197913])"
      ]
     },
     "execution_count": 8,
     "metadata": {},
     "output_type": "execute_result"
    }
   ],
   "source": [
    "#Crear un array con numeros aleatorios\n",
    "arr_random=np.random.rand(20)\n",
    "arr_random"
   ]
  },
  {
   "cell_type": "markdown",
   "id": "ac6bdbe3",
   "metadata": {},
   "source": [
    "## Creacion de Arrays\n",
    "- numpy.array: Crea un array NumPy a partir de una lista o tupla.\n",
    "- numpy.zeros: Crea un array de ceros con la forma especificada.\n",
    "- numpy.ones: Crea un array de unos con la forma especificada.\n",
    "- numpy.arange: Crea un array con valores espaciados uniformemente dentro de un rango.\n",
    "- numpy.linspace: Crea un array con valores espaciados uniformemente entre dos números.\n",
    "\n",
    "## Operaciones Matematicas Basicas\n",
    "- numpy.add: Suma elementos de dos arrays.\n",
    "- numpy.subtract: Resta elementos de dos arrays.\n",
    "- numpy.multiply: Multiplica elementos de dos arrays.\n",
    "- numpy.divide: Divide elementos de dos arrays.\n",
    "- numpy.power: Eleva cada elemento de un array a la potencia de otro.\n",
    "\n",
    "## Funciones Estadisticas\n",
    "\n",
    "- numpy.mean: Calcula la media de los elementos.\n",
    "- numpy.median: Calcula la mediana de los elementos.\n",
    "- numpy.std: Calcula la desviación estándar de los elementos.\n",
    "- numpy.var: Calcula la varianza de los elementos.\n"
   ]
  },
  {
   "cell_type": "code",
   "execution_count": 10,
   "id": "f89b3f40",
   "metadata": {},
   "outputs": [
    {
     "data": {
      "text/plain": [
       "array([0., 0., 0., 0., 0.])"
      ]
     },
     "execution_count": 10,
     "metadata": {},
     "output_type": "execute_result"
    }
   ],
   "source": [
    "array_de_zeros=np.zeros(5)\n",
    "array_de_zeros"
   ]
  },
  {
   "cell_type": "code",
   "execution_count": 12,
   "id": "e0f2ca61",
   "metadata": {},
   "outputs": [
    {
     "data": {
      "text/plain": [
       "array([34, 63,  5, 48, 96])"
      ]
     },
     "execution_count": 12,
     "metadata": {},
     "output_type": "execute_result"
    }
   ],
   "source": [
    "#Crear un array con numeros aleatorios enteros\n",
    "array_enteros=np.random.randint(0,100,5)\n",
    "array_enteros"
   ]
  },
  {
   "cell_type": "code",
   "execution_count": 14,
   "id": "e5e85acf",
   "metadata": {},
   "outputs": [
    {
     "data": {
      "text/plain": [
       "array([[ 1,  2,  3,  4],\n",
       "       [ 5,  6,  7,  8],\n",
       "       [ 9, 10, 11, 12]])"
      ]
     },
     "execution_count": 14,
     "metadata": {},
     "output_type": "execute_result"
    }
   ],
   "source": [
    "#Crear una matriz de dos dimensiones\n",
    "a = np.array([[1, 2, 3, 4], [5, 6, 7, 8], [9, 10, 11, 12]])\n",
    "a"
   ]
  },
  {
   "cell_type": "code",
   "execution_count": 19,
   "id": "3262c9fa",
   "metadata": {},
   "outputs": [
    {
     "data": {
      "text/plain": [
       "11"
      ]
     },
     "execution_count": 19,
     "metadata": {},
     "output_type": "execute_result"
    }
   ],
   "source": [
    "a[2,2]"
   ]
  },
  {
   "cell_type": "markdown",
   "id": "1768eb71",
   "metadata": {},
   "source": [
    "## Axis\n",
    "- Se utiliza para especificar en que eje voy a utilizar la operacion\n",
    "- axis=0 se llevara acabo a largo del primer eje=Columas\n",
    "- axis=1 Filas"
   ]
  },
  {
   "cell_type": "code",
   "execution_count": 22,
   "id": "f3cb3d61",
   "metadata": {},
   "outputs": [
    {
     "data": {
      "text/plain": [
       "array([[ 1,  2,  3,  4],\n",
       "       [ 5,  6,  7,  8],\n",
       "       [ 9, 10, 11, 12]])"
      ]
     },
     "execution_count": 22,
     "metadata": {},
     "output_type": "execute_result"
    }
   ],
   "source": [
    "valores_manu = np.array([[1, 2, 3, 4], [5, 6, 7, 8], [9, 10, 11, 12]])\n",
    "valores_manu"
   ]
  },
  {
   "cell_type": "code",
   "execution_count": 24,
   "id": "6e68c1f6",
   "metadata": {},
   "outputs": [
    {
     "data": {
      "text/plain": [
       "array([15, 18, 21, 24])"
      ]
     },
     "execution_count": 24,
     "metadata": {},
     "output_type": "execute_result"
    }
   ],
   "source": [
    "#np.sum(valores_manu,axis=1) # suma por filas\n",
    "np.sum(valores_manu,axis=0) # suma por columnas\n"
   ]
  },
  {
   "cell_type": "code",
   "execution_count": 29,
   "id": "76447684",
   "metadata": {},
   "outputs": [
    {
     "data": {
      "text/html": [
       "<div>\n",
       "<style scoped>\n",
       "    .dataframe tbody tr th:only-of-type {\n",
       "        vertical-align: middle;\n",
       "    }\n",
       "\n",
       "    .dataframe tbody tr th {\n",
       "        vertical-align: top;\n",
       "    }\n",
       "\n",
       "    .dataframe thead th {\n",
       "        text-align: right;\n",
       "    }\n",
       "</style>\n",
       "<table border=\"1\" class=\"dataframe\">\n",
       "  <thead>\n",
       "    <tr style=\"text-align: right;\">\n",
       "      <th></th>\n",
       "      <th>A</th>\n",
       "      <th>B</th>\n",
       "      <th>C</th>\n",
       "    </tr>\n",
       "  </thead>\n",
       "  <tbody>\n",
       "    <tr>\n",
       "      <th>0</th>\n",
       "      <td>0.211614</td>\n",
       "      <td>0.665983</td>\n",
       "      <td>0.426802</td>\n",
       "    </tr>\n",
       "    <tr>\n",
       "      <th>1</th>\n",
       "      <td>0.144453</td>\n",
       "      <td>0.123076</td>\n",
       "      <td>0.364830</td>\n",
       "    </tr>\n",
       "    <tr>\n",
       "      <th>2</th>\n",
       "      <td>0.583039</td>\n",
       "      <td>0.539733</td>\n",
       "      <td>0.560487</td>\n",
       "    </tr>\n",
       "    <tr>\n",
       "      <th>3</th>\n",
       "      <td>0.658695</td>\n",
       "      <td>0.894100</td>\n",
       "      <td>0.997806</td>\n",
       "    </tr>\n",
       "    <tr>\n",
       "      <th>4</th>\n",
       "      <td>0.097849</td>\n",
       "      <td>0.387112</td>\n",
       "      <td>0.023082</td>\n",
       "    </tr>\n",
       "  </tbody>\n",
       "</table>\n",
       "</div>"
      ],
      "text/plain": [
       "          A         B         C\n",
       "0  0.211614  0.665983  0.426802\n",
       "1  0.144453  0.123076  0.364830\n",
       "2  0.583039  0.539733  0.560487\n",
       "3  0.658695  0.894100  0.997806\n",
       "4  0.097849  0.387112  0.023082"
      ]
     },
     "execution_count": 29,
     "metadata": {},
     "output_type": "execute_result"
    }
   ],
   "source": [
    "import pandas as pd\n",
    "data_array=np.random.rand(5,3)\n",
    "df=pd.DataFrame(data_array,columns=['A','B','C'])\n",
    "df"
   ]
  },
  {
   "cell_type": "code",
   "execution_count": 31,
   "id": "d8cb4728",
   "metadata": {},
   "outputs": [
    {
     "data": {
      "text/plain": [
       "array([[10, 11, 12],\n",
       "       [13, 14, 15],\n",
       "       [16, 17, 18]])"
      ]
     },
     "execution_count": 31,
     "metadata": {},
     "output_type": "execute_result"
    }
   ],
   "source": [
    "matriz_a=np.array([[1,2,3],\n",
    "                   [4,5,8],\n",
    "                   [7,8,9]]\n",
    "                   )\n",
    "matriz_b=np.array([[10,11,12],\n",
    "                   [13,14,15],\n",
    "                   [16,17,18]\n",
    "                  ])\n",
    "matriz_b"
   ]
  },
  {
   "cell_type": "code",
   "execution_count": 34,
   "id": "9ba6c2c4",
   "metadata": {},
   "outputs": [
    {
     "data": {
      "text/plain": [
       "array([[11, 13, 15],\n",
       "       [17, 19, 23],\n",
       "       [23, 25, 27]])"
      ]
     },
     "execution_count": 34,
     "metadata": {},
     "output_type": "execute_result"
    }
   ],
   "source": [
    "resultado_funcion=np.add(matriz_a,matriz_b)\n",
    "resultado_operador=matriz_a + matriz_b\n",
    "resultado_operador"
   ]
  },
  {
   "cell_type": "code",
   "execution_count": 37,
   "id": "152a4a9d",
   "metadata": {},
   "outputs": [
    {
     "data": {
      "text/plain": [
       "array([12, 15, 20])"
      ]
     },
     "execution_count": 37,
     "metadata": {},
     "output_type": "execute_result"
    }
   ],
   "source": [
    "suma_elementos=np.sum(matriz_a,axis=0)\n",
    "suma_elementos"
   ]
  },
  {
   "cell_type": "code",
   "execution_count": 38,
   "id": "fe1f8406",
   "metadata": {},
   "outputs": [
    {
     "data": {
      "text/plain": [
       "array([0.90554739, 0.3980917 , 0.974619  , 0.71114194, 0.95260651,\n",
       "       0.66353591, 0.17783771, 0.61659126, 0.92833411, 0.82387649,\n",
       "       0.47055977, 0.25804223, 0.08341765, 0.35713936, 0.86725915,\n",
       "       0.57361358, 0.93032489, 0.82050002, 0.22319705, 0.62210263])"
      ]
     },
     "execution_count": 38,
     "metadata": {},
     "output_type": "execute_result"
    }
   ],
   "source": [
    "arr_random=np.random.rand(20)\n",
    "arr_random"
   ]
  },
  {
   "cell_type": "code",
   "execution_count": 40,
   "id": "2e88168f",
   "metadata": {},
   "outputs": [
    {
     "data": {
      "text/plain": [
       "array([0.90554739, 0.974619  , 0.71114194, 0.95260651, 0.66353591,\n",
       "       0.61659126, 0.92833411, 0.82387649, 0.86725915, 0.57361358,\n",
       "       0.93032489, 0.82050002, 0.62210263])"
      ]
     },
     "execution_count": 40,
     "metadata": {},
     "output_type": "execute_result"
    }
   ],
   "source": [
    "filter_array_5=arr_random[arr_random>0.5]\n",
    "filter_array_5"
   ]
  },
  {
   "cell_type": "markdown",
   "id": "779d327c",
   "metadata": {},
   "source": [
    " -En Numpy puedes usar semillas (\"seeds\") para inicializar el generador de numeros aleatorios."
   ]
  },
  {
   "cell_type": "code",
   "execution_count": 42,
   "id": "1a095994",
   "metadata": {},
   "outputs": [
    {
     "data": {
      "text/plain": [
       "array([0.37454012, 0.95071431, 0.73199394])"
      ]
     },
     "execution_count": 42,
     "metadata": {},
     "output_type": "execute_result"
    }
   ],
   "source": [
    "semilla = 42\n",
    "#Establecer una semilla especifica\n",
    "np.random.seed(semilla)\n",
    "#Generar numeros Aleatorios\n",
    "aleatorios_1=np.random.rand(3)\n",
    "aleatorios_1"
   ]
  },
  {
   "cell_type": "markdown",
   "id": "f78185b2",
   "metadata": {},
   "source": [
    "## Modelo Predectivo de Ventas\n",
    "- Si quieres predecir ventas utilizar un modelo de regresion para estimar ventas en funcion a diferentes caracteristicas o variables predictorias."
   ]
  },
  {
   "cell_type": "code",
   "execution_count": 57,
   "id": "9822b9bf",
   "metadata": {},
   "outputs": [
    {
     "data": {
      "image/png": "[encoded data removed]",
      "text/plain": [
       "<Figure size 640x480 with 1 Axes>"
      ]
     },
     "metadata": {},
     "output_type": "display_data"
    }
   ],
   "source": [
    "from sklearn.model_selection import train_test_split\n",
    "from sklearn.linear_model import LinearRegression\n",
    "import matplotlib.pyplot as plt\n",
    "\n",
    "np.random.seed(42)\n",
    "datos_ventas = {\n",
    "    'Publicidad':np.random.rand(100)*5, #Gasto en publicidad\n",
    "    'Precio':np.random.rand(100)*100 , #Precio del Producto\n",
    "    'Ventas':5*np.random.rand(100)+50 #Ventas (Variable Objetivo)\n",
    "    \n",
    "}\n",
    "df_ventas=pd.DataFrame(datos_ventas)\n",
    "\n",
    "#Dividir los datos en conjunto de entrenamiento y pruebas\n",
    "X=df_ventas[['Publicidad','Precio']]\n",
    "y=df_ventas['Ventas']\n",
    "X_train,X_test,y_train,y_test=train_test_split(X,y,test_size=0.2,random_state=42)\n",
    "\n",
    "#Crear el modelo de Regresion Lineal\n",
    "modelo_ventas=LinearRegression()\n",
    "\n",
    "#Entrenar el Modelo\n",
    "modelo_ventas.fit(X_train,y_train)\n",
    "\n",
    "#Realizar las predicciones en el conjunto de prueba\n",
    "y_pred=modelo_ventas.predict(X_test)\n",
    "\n",
    "#Visualizar los resultados\n",
    "plt.scatter(y_test,y_pred,color='blue')\n",
    "plt.plot([y_test.min(), y_test.max()], [y_test.min(), y_test.max()], linestyle='--', color='red', linewidth=2)\n",
    "plt.xlabel('Ventas Reales')\n",
    "plt.ylabel('Ventas Predicciones')\n",
    "plt.title('Predicciones de Ventas')\n",
    "plt.show()\n",
    "\n"
   ]
  },
  {
   "cell_type": "code",
   "execution_count": null,
   "id": "551cf38b",
   "metadata": {},
   "outputs": [],
   "source": []
  }
 ],
 "metadata": {
  "kernelspec": {
   "display_name": "Python 3 (ipykernel)",
   "language": "python",
   "name": "python3"
  },
  "language_info": {
   "codemirror_mode": {
    "name": "ipython",
    "version": 3
   },
   "file_extension": ".py",
   "mimetype": "text/x-python",
   "name": "python",
   "nbconvert_exporter": "python",
   "pygments_lexer": "ipython3",
   "version": "3.11.5"
  }
 },
 "nbformat": 4,
 "nbformat_minor": 5
}
