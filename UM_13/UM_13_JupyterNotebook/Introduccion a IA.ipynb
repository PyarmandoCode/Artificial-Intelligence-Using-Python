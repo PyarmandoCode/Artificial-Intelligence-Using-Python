{
 "cells": [
  {
   "cell_type": "markdown",
   "id": "3ddc0ef3",
   "metadata": {},
   "source": [
    "# Que es el Machine Larning\n",
    "- Es Una rama de la inteligencia artificial que se centra en el desarrollo de algortimos y modelos que permiten aprender patrones a partir de datos y realizar tareas sin ser explictamente programadas.\n",
    "- Tipos Machine Learning\n",
    "    - Aprendizaje supervizado\n",
    "    - Aprendizaje no supervizado\n",
    "    - Aprendizaje en base a pruebas    \n",
    "    \n",
    "![](th.jpg)    \n",
    "    \n",
    "- Libreria mas utilizadas con python para IA    :\n",
    "  \n",
    "    - [pandas](https://pandas.pydata.org/)  \n",
    "    - [numpy](https://numpy.org/)  \n",
    "    - [matplotlib](https://matplotlib.org/)  \n",
    "    - [seaborn](https://seaborn.pydata.org/)  \n",
    "    - [Tensorflow](https://www.tensorflow.org/) \n",
    "\n",
    "\n"
   ]
  },
  {
   "cell_type": "code",
   "execution_count": null,
   "id": "7afd0a8a",
   "metadata": {},
   "outputs": [],
   "source": [
    "pip install pandas"
   ]
  },
  {
   "cell_type": "code",
   "execution_count": 5,
   "id": "0608a918",
   "metadata": {},
   "outputs": [
    {
     "data": {
      "text/html": [
       "<div>\n",
       "<style scoped>\n",
       "    .dataframe tbody tr th:only-of-type {\n",
       "        vertical-align: middle;\n",
       "    }\n",
       "\n",
       "    .dataframe tbody tr th {\n",
       "        vertical-align: top;\n",
       "    }\n",
       "\n",
       "    .dataframe thead th {\n",
       "        text-align: right;\n",
       "    }\n",
       "</style>\n",
       "<table border=\"1\" class=\"dataframe\">\n",
       "  <thead>\n",
       "    <tr style=\"text-align: right;\">\n",
       "      <th></th>\n",
       "      <th>ID</th>\n",
       "      <th>Nombre</th>\n",
       "      <th>Edad</th>\n",
       "    </tr>\n",
       "  </thead>\n",
       "  <tbody>\n",
       "    <tr>\n",
       "      <th>0</th>\n",
       "      <td>1</td>\n",
       "      <td>Armando</td>\n",
       "      <td>25</td>\n",
       "    </tr>\n",
       "    <tr>\n",
       "      <th>1</th>\n",
       "      <td>2</td>\n",
       "      <td>Juan</td>\n",
       "      <td>67</td>\n",
       "    </tr>\n",
       "    <tr>\n",
       "      <th>2</th>\n",
       "      <td>3</td>\n",
       "      <td>Pedro</td>\n",
       "      <td>18</td>\n",
       "    </tr>\n",
       "  </tbody>\n",
       "</table>\n",
       "</div>"
      ],
      "text/plain": [
       "   ID   Nombre  Edad\n",
       "0   1  Armando    25\n",
       "1   2     Juan    67\n",
       "2   3    Pedro    18"
      ]
     },
     "execution_count": 5,
     "metadata": {},
     "output_type": "execute_result"
    }
   ],
   "source": [
    "import pandas as pd\n",
    "datos = {\n",
    "    'ID':[1,2,3],\n",
    "    'Nombre':['Armando','Juan','Pedro'],\n",
    "    'Edad':[25,67,18]\n",
    "}\n",
    "df = pd.DataFrame(datos)\n",
    "df"
   ]
  },
  {
   "cell_type": "code",
   "execution_count": null,
   "id": "88fd8a11",
   "metadata": {},
   "outputs": [],
   "source": []
  }
 ],
 "metadata": {
  "kernelspec": {
   "display_name": "Python 3 (ipykernel)",
   "language": "python",
   "name": "python3"
  },
  "language_info": {
   "codemirror_mode": {
    "name": "ipython",
    "version": 3
   },
   "file_extension": ".py",
   "mimetype": "text/x-python",
   "name": "python",
   "nbconvert_exporter": "python",
   "pygments_lexer": "ipython3",
   "version": "3.11.5"
  }
 },
 "nbformat": 4,
 "nbformat_minor": 5
}
