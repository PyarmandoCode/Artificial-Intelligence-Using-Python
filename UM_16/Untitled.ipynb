{
 "cells": [
  {
   "cell_type": "markdown",
   "id": "d9010956",
   "metadata": {},
   "source": [
    "## Inteligencia Artificial \n",
    "- Fundamentos\n",
    "  - 1959 Arthur Samuel Informatico Pionero  \"El Estudio que da a los ordenadores la capacidad de aprender sin ser programados explicitamente\" \n",
    "  - En el Articulo de Alan Touring (1950)"
   ]
  },
  {
   "cell_type": "markdown",
   "id": "60fabe49",
   "metadata": {},
   "source": [
    "## Machine Learning (Aprendizage Automatico)\n",
    "- Es una rama de la IA que estudia como dotar a las maquinas de capacidad de aprendizaje\n",
    "- **¿Como aprenden las Maquinas?**\n",
    "    - **Modelo** .- Es un conjunto de informacion que ayuda a la maquina a poder aprender y tomar sus propias decisiones (Datos). \n",
    "    - **Algoritmo de Aprendizaje** .- Modulo de Python (Red Neuronal (Tensorflow)) (Regresion Lineal)\n",
    "    - **Entrenar el Modelo** .-Para que el modelo tome sus propias decisiones.\n",
    "    - **Ajustes Necesarios** .- Modificar los posibles fallas que tuviera el modelo.\n",
    "       "
   ]
  },
  {
   "cell_type": "markdown",
   "id": "e8e0f732",
   "metadata": {},
   "source": [
    "## Regresion Lineal\n",
    " - Es un  Metodo estadistico que se utiliza para modelar la relacion entre una variable dependiente(o una respuesta) y una o mas variables independientes(o predictores) mediante una ecuacion lineal.\n",
    " - y= mx + b\n",
    " - Donde:\n",
    "     y= es la variable dependiente\n",
    "     x= es la variable independiente\n",
    "     m= es la pendiente de la linea\n",
    "     b= es la interseccion en el eje y ( y el valor de y cuando x es 0)\n",
    "     \n",
    "- Ejemplo\n",
    "    -Queremos predecir la puntuacion de un estudiante (Y) en un examen basandose en el numero de horas que estudio (x)\n",
    "- En Resumen el objetivo del modelo de regresione construir una ecuacion matematica que defina  los valores de x e y y poder hacer predicciones con ambos datos   "
   ]
  },
  {
   "cell_type": "code",
   "execution_count": 9,
   "id": "6813b755",
   "metadata": {},
   "outputs": [
    {
     "data": {
      "text/plain": [
       "102.5"
      ]
     },
     "execution_count": 9,
     "metadata": {},
     "output_type": "execute_result"
    }
   ],
   "source": [
    "#Datos de ejemplo\n",
    "horas_estudio = [1,2,3,4,5] = X\n",
    "puntuacion_de_examen=[60,70,75,85,95] = Y\n",
    "#Calcular la regresion lineal manualmente\n",
    "promedio_horas=sum(horas_estudio)/len(horas_estudio)\n",
    "promedio_puntuacion=sum(puntuacion_de_examen)/len(puntuacion_de_examen)\n",
    "promedio_puntuacion\n",
    "m=sum((xi - promedio_horas) * (yi -promedio_puntuacion)for xi,yi in zip(horas_estudio,puntuacion_de_examen))/sum((xi - promedio_horas) ** 2 for xi in horas_estudio)\n",
    "b=promedio_puntuacion - m * promedio_horas\n",
    "#predicciones\n",
    "horas_nuevas=5\n",
    "prediccion = m * horas_nuevas + b\n",
    "prediccion"
   ]
  },
  {
   "cell_type": "markdown",
   "id": "167d5ab7",
   "metadata": {},
   "source": [
    "## Tipos de Machine Learning\n",
    "- **Supervizado**\n",
    "  -El Aprendizaje Supervisado utilizaremos informacion (Dataset) de entrenamiento. Entrenamos a nuestro modelo con miles de datos y le decimos como clasificarnos por medio de etiquetas \n",
    "![\"supervizado\"](supervizado.png)\n",
    "- **No Supervizado**\n",
    "  -Utilizaremos informacion (Dataset) de entrenamiento. a diferencia de aprendidizaje supervizado no tendra etiquetas el modelo debera aprender con objetivos y abstraer los patrones de la informacion directamente como separarlos por grupos a este problema se le llama clustering.\n",
    "![\"No Supervizado\"](no_supervizado.png)\n",
    "- **Esfuerzo**\n",
    "  -Es un tecnica que nuestos modelos aprenden a partir de la experiencia. cuando toma un mala decision se le \"castiga\" . A partir de sus premios y castigos va aprendiendo a realizar mejor su tarea.\n",
    "![\"Refuerzo\"](refuerzo.png)\n",
    "![aprendizaje_automatico](a_a.png) "
   ]
  },
  {
   "cell_type": "markdown",
   "id": "055bb55e",
   "metadata": {},
   "source": [
    "## Aprendizaje Supervisado\n",
    "- Clasificacion .- Un Algortimo de clasificacion tiene como objetivo clasificar las entradas en un numero determinado de categorias basandose  en los datos etiquetados con los que fue entrenado.\n",
    "  -Clasificacion Binaria,filttar correos ,clasificar comentarios clientes como positivos o negativos.\n",
    "  \n",
    "## Aprendizaje NO Supervisado\n",
    "- Agrupamiento (Clustering) .- Este metodo no supertvizado reune un conjuento de algortimos de aprendizaje cuyo objetivo es agreupar datos no etiquetados con propiedades imilares.\n",
    "## Regresion\n",
    "- Cualquier Modelo que nos ayude a predecir valores numericos , como  el resultado obtenido por horas de estudio o el precio de venta de un producto se conoce como regresion lineal.\n"
   ]
  },
  {
   "cell_type": "code",
   "execution_count": null,
   "id": "68c8df90",
   "metadata": {},
   "outputs": [],
   "source": [
    "#Programacion Regular\n",
    "#Convertir datos de celsius a fahrenheint\n",
    "def convertir_cel_fa(c):\n",
    "    f=c*1.8+32\n",
    "    return f"
   ]
  },
  {
   "cell_type": "code",
   "execution_count": null,
   "id": "5558a6ed",
   "metadata": {},
   "outputs": [],
   "source": [
    "convertir_cel_fa(15)"
   ]
  },
  {
   "cell_type": "code",
   "execution_count": null,
   "id": "5da1a110",
   "metadata": {},
   "outputs": [],
   "source": [
    "import tensorflow as tf\n",
    "import numpy as np\n"
   ]
  },
  {
   "cell_type": "code",
   "execution_count": 13,
   "id": "3843a8b6",
   "metadata": {},
   "outputs": [
    {
     "data": {
      "text/plain": [
       "102.5"
      ]
     },
     "execution_count": 13,
     "metadata": {},
     "output_type": "execute_result"
    }
   ],
   "source": [
    "#Datos de ejemplo\n",
    "horas_estudio = [1,2,3,4,5]\n",
    "puntuacion_de_examen=[60,70,75,85,95]\n",
    "#Calcular la regresion lineal manualmente\n",
    "promedio_horas=sum(horas_estudio)/len(horas_estudio)\n",
    "promedio_puntuacion=sum(puntuacion_de_examen)/len(puntuacion_de_examen)\n",
    "promedio_puntuacion\n",
    "m=sum((xi - promedio_horas) * (yi -promedio_puntuacion)for xi,yi in zip(horas_estudio,puntuacion_de_examen))/sum((xi - promedio_horas) ** 2 for xi in horas_estudio)\n",
    "b=promedio_puntuacion - m * promedio_horas\n",
    "#predicciones\n",
    "horas_nuevas=6\n",
    "prediccion = m * horas_nuevas + b\n",
    "prediccion"
   ]
  },
  {
   "cell_type": "code",
   "execution_count": 20,
   "id": "beaad745",
   "metadata": {},
   "outputs": [],
   "source": [
    "#Skelearn es un modulo de python para machine learning que me permite realizar algorimos de \n",
    "# predicciones\n",
    "from sklearn.linear_model import LinearRegression \n",
    "from sklearn.naive_bayes import MultinomialNB\n",
    "from sklearn.mixture import GaussianMixture\n",
    "modelo=LinearRegression()"
   ]
  },
  {
   "cell_type": "code",
   "execution_count": 18,
   "id": "e8e50fa5",
   "metadata": {},
   "outputs": [
    {
     "data": {
      "text/plain": [
       "[('Alice', 25), ('bop', 30)]"
      ]
     },
     "execution_count": 18,
     "metadata": {},
     "output_type": "execute_result"
    }
   ],
   "source": [
    "#Ejemplo de ZIP\n",
    "nombres= ['Alice','bop']\n",
    "edades = [25,30]\n",
    "combinado=zip(nombres,edades)\n",
    "lista_combinada=list(combinado)\n",
    "lista_combinada"
   ]
  },
  {
   "cell_type": "code",
   "execution_count": null,
   "id": "2ea8e047",
   "metadata": {},
   "outputs": [],
   "source": [
    "##Ejemplo de Modelo Predectivo\n",
    " - Crear un modelo predectivo de ML que aprenda a convertir grados celsiurs a fahreint\n",
    " - Para el desarrollo utilizaremos una red neuronal Tensorflow y la biblioteca de KERAS   "
   ]
  },
  {
   "cell_type": "markdown",
   "id": "d6fd0bb7",
   "metadata": {},
   "source": [
    "## Tensorflow\n",
    "- Modulo de Python que permite crear modelos de aprendizaje automatico diseñada por Google"
   ]
  },
  {
   "cell_type": "code",
   "execution_count": 21,
   "id": "bc6bbd4a",
   "metadata": {},
   "outputs": [
    {
     "name": "stdout",
     "output_type": "stream",
     "text": [
      "WARNING:tensorflow:From C:\\Users\\Armando\\anaconda3\\Lib\\site-packages\\keras\\src\\losses.py:2976: The name tf.losses.sparse_softmax_cross_entropy is deprecated. Please use tf.compat.v1.losses.sparse_softmax_cross_entropy instead.\n",
      "\n"
     ]
    }
   ],
   "source": [
    "import tensorflow as tf\n",
    "import numpy as np\n"
   ]
  },
  {
   "cell_type": "code",
   "execution_count": 22,
   "id": "d7e7eff2",
   "metadata": {},
   "outputs": [],
   "source": [
    "#Declarar 7 entradas de grados celsius\n",
    "celsius = np.array([-40,-10,0,8,15,22,38],dtype=float)\n",
    "#Declarar nuestros resultados den grados farehreint\n",
    "farenheint= np.array([-40,14,32,46,59,72,100],dtype=float)"
   ]
  },
  {
   "cell_type": "code",
   "execution_count": 23,
   "id": "54c50eaf",
   "metadata": {},
   "outputs": [
    {
     "name": "stdout",
     "output_type": "stream",
     "text": [
      "WARNING:tensorflow:From C:\\Users\\Armando\\anaconda3\\Lib\\site-packages\\keras\\src\\backend.py:873: The name tf.get_default_graph is deprecated. Please use tf.compat.v1.get_default_graph instead.\n",
      "\n"
     ]
    }
   ],
   "source": [
    "#Diseñar nuestra red neuronal\n",
    "capa=tf.keras.layers.Dense(units=1,input_shape=[1])"
   ]
  },
  {
   "cell_type": "code",
   "execution_count": 24,
   "id": "2b4d5bb2",
   "metadata": {},
   "outputs": [],
   "source": [
    "#utilizaremos un modelo sequencial\n",
    "modelo=tf.keras.Sequential([capa])"
   ]
  },
  {
   "cell_type": "code",
   "execution_count": 29,
   "id": "ee28dbb7",
   "metadata": {},
   "outputs": [],
   "source": [
    "modelo.compile(\n",
    "     optimizer=tf.keras.optimizers.Adam(0.1),\n",
    "     loss='mean_squared_error'\n",
    "    )"
   ]
  },
  {
   "cell_type": "code",
   "execution_count": 31,
   "id": "dd1616e2",
   "metadata": {},
   "outputs": [
    {
     "name": "stdout",
     "output_type": "stream",
     "text": [
      "Comenzando el entrenamiento..\n",
      "Modelo entrenado\n"
     ]
    }
   ],
   "source": [
    "print(\"Comenzando el entrenamiento..\")\n",
    "historia=modelo.fit(celsius,farenheint,epochs=1000,verbose=False)\n",
    "print(\"Modelo entrenado\")"
   ]
  },
  {
   "cell_type": "code",
   "execution_count": 34,
   "id": "0a03b864",
   "metadata": {},
   "outputs": [
    {
     "name": "stdout",
     "output_type": "stream",
     "text": [
      "1/1 [==============================] - 0s 40ms/step\n"
     ]
    },
    {
     "data": {
      "text/plain": [
       "array([[398.82452]], dtype=float32)"
      ]
     },
     "execution_count": 34,
     "metadata": {},
     "output_type": "execute_result"
    }
   ],
   "source": [
    "#Hagamos una prediccion\n",
    "resultado=modelo.predict([200])\n",
    "resultado"
   ]
  },
  {
   "cell_type": "code",
   "execution_count": null,
   "id": "81189149",
   "metadata": {},
   "outputs": [],
   "source": []
  }
 ],
 "metadata": {
  "kernelspec": {
   "display_name": "Python 3 (ipykernel)",
   "language": "python",
   "name": "python3"
  },
  "language_info": {
   "codemirror_mode": {
    "name": "ipython",
    "version": 3
   },
   "file_extension": ".py",
   "mimetype": "text/x-python",
   "name": "python",
   "nbconvert_exporter": "python",
   "pygments_lexer": "ipython3",
   "version": "3.11.5"
  }
 },
 "nbformat": 4,
 "nbformat_minor": 5
}
